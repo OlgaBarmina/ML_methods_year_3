{
  "nbformat": 4,
  "nbformat_minor": 0,
  "metadata": {
    "colab": {
      "name": "Lab_1.ipynb",
      "provenance": []
    },
    "kernelspec": {
      "name": "python3",
      "display_name": "Python 3"
    },
    "language_info": {
      "name": "python"
    }
  },
  "cells": [
    {
      "cell_type": "markdown",
      "source": [
        "# Методы машинного обучения – Лабораторная работа №1\n",
        "\n",
        "# Разведочный анализ данных"
      ],
      "metadata": {
        "id": "VQlcDy9BC5bE"
      }
    },
    {
      "cell_type": "markdown",
      "source": [
        "## Порядок сдачи лабораторной работы\n",
        "\n",
        "Для каждого направления подготовки будет создана отдельная команда MS Teams, а для каждой лабораторной работы в рамках команды будет создан отдельный канал. Варианты заданий будут направляться каждому студенту через записную книжку команды.\n",
        "\n",
        "Отчет по лабораторной работе должен быть представлен в виде файла PDF, представляющего собой содержимое Jupiter Notebook с титульным листом, вариантом задания, программным кодом, комментариями к программному коду и результатами выполнения программы. Отчет в формате PDF и исходный файл ipynb передаются как ответ на задание MS Teams. Моментом сдачи задания является дата и время отправки файлов путем нажатия кнопки «сдать» в MS Teams.\n",
        "\n",
        "Лабораторная работа оценивается с максимальной оценкой 10 баллов, если программа корректно решает поставленные задачи и отчет сдан не позднее даты и времени, указанных в задании на лабораторную работу. В случае просрочки оценка снижается на 1 балл за каждый день просрочки, но не более чем на 5 баллов. Отчеты, отправленные в срок более 6 дней со дня проведения лабораторной работы, оцениваются в конце семестра не более, чем в 5 баллов."
      ],
      "metadata": {
        "id": "XsBpRAmqDLgM"
      }
    },
    {
      "cell_type": "markdown",
      "source": [
        "# Google Colab\n",
        "\n",
        "__Google Colab__ - это инструмент компании Google, который позволяет разрабатывать, запускать и публиковать код Python. Google Colab можно рассматривать как расширенную версию Jupyter Notebook, размещенную на облачных серверах Google.\n",
        "\n",
        "Google Colab доступен в браузере по ссылке https://colab.research.google.com/. \n",
        "\n",
        "В Colab есть два типа ячеек – ячейки кода и текстовые ячейки. Текстовые ячейки можно использовать для добавления комментариев к вашему коду, а также для отображения изображений, видео, заголовков, списков и многого другого. Язык, используемый в текстовых ячейках, называется «Markdown» (https://colab.research.google.com/notebooks/markdown_guide.ipynb). "
      ],
      "metadata": {
        "id": "G7bqP_ddqolB"
      }
    },
    {
      "cell_type": "markdown",
      "source": [
        "Для запуска ячейки с кодом нужно нажать кнопку воспроизведения в левой части ячейки.\n",
        "\n",
        "Если книжка Colab не используется в течение нескольких часов, то произойдет разъединение с серверами Google, при этом значения переменных переменные и состояния текущего сеанса будут потеряны. Для продолжения работы с книжкой Colab нужно снова запустить ячейки с кодом – либо одну за другой, либо можно выбрать  «Среда выполнения» (Runtime) в верхнем левом углу записной книжки и нажать, скажем, «Выполнить все»."
      ],
      "metadata": {
        "id": "Tp3hyMmwteU5"
      }
    },
    {
      "cell_type": "markdown",
      "source": [
        "## Работа с языком программирования Python\n",
        "\n",
        "Пример простейшей программы на языке __Python__:"
      ],
      "metadata": {
        "id": "yrl5P-krDiGA"
      }
    },
    {
      "cell_type": "code",
      "execution_count": null,
      "metadata": {
        "id": "EAUHo64aC2Q7",
        "collapsed": true
      },
      "outputs": [],
      "source": [
        "def hello_ML():\n",
        "    print('Hello, Machine Learning!')\n",
        "\n",
        "for _ in range(10):\n",
        "    hello_ML()"
      ]
    },
    {
      "cell_type": "markdown",
      "source": [
        "В языке __Python__ реализованы, в частности, такие структуры данных как списки (`list`), кортежи (`tuple`), словари (`dict`), множества (`set`). "
      ],
      "metadata": {
        "id": "3G0xU5-CEQIG"
      }
    },
    {
      "cell_type": "code",
      "source": [
        "alist = [1, 2., \"3\"]  # список\n",
        "alist"
      ],
      "metadata": {
        "id": "C29UeR5_a5G5"
      },
      "execution_count": null,
      "outputs": []
    },
    {
      "cell_type": "code",
      "source": [
        "atuple = (1, [2,3], (4,5))  # кортеж\n",
        "atuple"
      ],
      "metadata": {
        "id": "oGSKx2ZlbGCF"
      },
      "execution_count": null,
      "outputs": []
    },
    {
      "cell_type": "code",
      "source": [
        "adict = {1: \"один\", 2: \"два\", 3: \"три\"}  # словарь\n",
        "adict"
      ],
      "metadata": {
        "id": "CZoLbiuObl0s"
      },
      "execution_count": null,
      "outputs": []
    },
    {
      "cell_type": "code",
      "source": [
        "aset = {1, 2, 1, 3, 1, 2}  # множество\n",
        "aset"
      ],
      "metadata": {
        "id": "qTvm2wwydMtY"
      },
      "execution_count": null,
      "outputs": []
    },
    {
      "cell_type": "markdown",
      "source": [
        "## Библиотека __NumPy__\n",
        "\n",
        "__NumPy__ (Numerical Python) — это библиотека __Python__ с поддержкой многомерных массивов (включая матрицы) и математических функций, предназначенных для работы с многомерными массивами. [__NumPy__](https://numpy.org) является основой для многих других библиотек __Python__, в т.ч. библиотек машинного обучения.\n",
        "\n",
        "Для использования __NumPy__ импортируем библиотеку командой `import`:"
      ],
      "metadata": {
        "id": "72eW5SxyFtu9"
      }
    },
    {
      "cell_type": "code",
      "source": [
        "import numpy as np"
      ],
      "metadata": {
        "id": "ZxfOMXdtFWKR"
      },
      "execution_count": null,
      "outputs": []
    },
    {
      "cell_type": "markdown",
      "source": [
        "### Создание массива __NumPy__\n",
        "\n",
        "Объект `ndarray` (многомерный массив) может быть создан из списка или кортежа.\n",
        "\n",
        "Объект `ndarray` имеет такие свойства как:\n",
        "\n",
        "• `ndim` – ранг (число осей или измерений) массива \n",
        "\n",
        "• `shape` – кортеж, показывающий длину массива по каждой из осей (размеры массива). Для матрицы из `n` строк и `m` столбов, свойство `shape` равно `(n,m)`. Число элементов в кортеже `shape` равно рангу массива, то есть свойству `ndim`.\n",
        "\n",
        "• `size` – число элементов в массиве, равное произведению всех элементов кортежа `shape`.\n",
        "\n",
        "• `dtype` – тип элементов массива. Тип `dtype` можно определить явно, используя стандартные типы данных __Python__ или типы, предусмотренные библиотекой __NumPy__, например, `dtype=np.int8`. Тип `dtype` также может быть составным, например, целое число и число с плавающей точкой."
      ],
      "metadata": {
        "id": "UfXyT-ROGN1B"
      }
    },
    {
      "cell_type": "code",
      "source": [
        "oneDim = np.array([1, 2, 3, 4, 5],dtype=np.float16) # одномерный массив (вектор)\n",
        "print(oneDim)\n",
        "print(\"Ранг =\", oneDim.ndim) \n",
        "print(\"Размеры =\", oneDim.shape) \n",
        "print(\"Число элементов =\", oneDim.size) \n",
        "print(\"Тип массива =\", oneDim.dtype)"
      ],
      "metadata": {
        "id": "2GjGrot6GdeF"
      },
      "execution_count": null,
      "outputs": []
    },
    {
      "cell_type": "code",
      "source": [
        "twoDim = np.array([[1,2], [3,4], [5,6], [7,8]]) # двумерный массив (матрица) \n",
        "print(twoDim)\n",
        "print(\"Ранг =\", twoDim.ndim)\n",
        "print(\"Размеры =\", twoDim.shape)\n",
        "print(\"Число элементов =\", twoDim.size) \n",
        "print(\"Тип массива =\", twoDim.dtype)"
      ],
      "metadata": {
        "id": "HxyoCk-ZLsLI"
      },
      "execution_count": null,
      "outputs": []
    },
    {
      "cell_type": "code",
      "source": [
        "arrFromTuple = np.array(((1,'a',3.0), (2,'b',3.5))) # массив из кортежа \n",
        "print(arrFromTuple)\n",
        "print(\"Ранг =\", arrFromTuple.ndim)\n",
        "print(\"Размеры =\", arrFromTuple.shape)\n",
        "print(\"Число элементов =\", arrFromTuple.size)\n",
        "print(\"Тип массива =\", arrFromTuple.dtype)"
      ],
      "metadata": {
        "id": "2qN-Bo8cL_af"
      },
      "execution_count": null,
      "outputs": []
    },
    {
      "cell_type": "markdown",
      "source": [
        "В __NumPy__ имеется ряд встроенных функций для создания объектов `ndarray`. "
      ],
      "metadata": {
        "id": "UPctHXftMULn"
      }
    },
    {
      "cell_type": "code",
      "source": [
        "print(np.random.rand(5)) # случайные числа с равномерным распределением на [0,1]"
      ],
      "metadata": {
        "id": "YHorYZCyMaXW"
      },
      "execution_count": null,
      "outputs": []
    },
    {
      "cell_type": "code",
      "source": [
        "print(np.random.randn(5)) # случайные числа со станд. нормальным распределением"
      ],
      "metadata": {
        "id": "X41oN_EgM1Bx"
      },
      "execution_count": null,
      "outputs": []
    },
    {
      "cell_type": "code",
      "source": [
        "print(np.arange(-10,10,3)) # аналогично range, возвращается массив вместо списка"
      ],
      "metadata": {
        "id": "XttPKWr7M8bH"
      },
      "execution_count": null,
      "outputs": []
    },
    {
      "cell_type": "code",
      "source": [
        "print(np.arange(12).reshape(2,2,3)) # преобразование вектора в матрицу"
      ],
      "metadata": {
        "id": "LYTOkbTMNCVX"
      },
      "execution_count": null,
      "outputs": []
    },
    {
      "cell_type": "code",
      "source": [
        "print(np.linspace(0,1,11)) # разбиение интервала на равноудаленные значения"
      ],
      "metadata": {
        "id": "3ObjSk1VNWSF"
      },
      "execution_count": null,
      "outputs": []
    },
    {
      "cell_type": "code",
      "source": [
        "np.zeros((2,3))           # матрица из нулей"
      ],
      "metadata": {
        "id": "W67YmxMuNrkS"
      },
      "execution_count": null,
      "outputs": []
    },
    {
      "cell_type": "code",
      "source": [
        "print(np.ones((3,2),dtype=int))  # матрица из единиц"
      ],
      "metadata": {
        "id": "mT4Gufj5N0pw"
      },
      "execution_count": null,
      "outputs": []
    },
    {
      "cell_type": "code",
      "source": [
        "print(np.eye(30,dtype=np.int16))  # единичная матрица размером 4 x 4 (np.int16)"
      ],
      "metadata": {
        "id": "jBGMHzqLN5PQ"
      },
      "execution_count": null,
      "outputs": []
    },
    {
      "cell_type": "markdown",
      "source": [
        "### Поэлементные операции\n",
        "\n",
        "Можно применять стандартные операции, такие как сложение и умножение, к каждому элементу объекта `ndarray`, при этом создается новый массив, который заполняется результатами действия оператора."
      ],
      "metadata": {
        "id": "W3fJqttskBBI"
      }
    },
    {
      "cell_type": "code",
      "source": [
        "x = np.array([1, 2, 3, 4, 5]) # ndarray из списка Python\n",
        "\n",
        "print(x + 1)      # сложение\n",
        "print(x - 1)      # вычитание\n",
        "print(x * 2)      # умножение\n",
        "print(x // 2)     # целая часть от деления\n",
        "print(x ** 2)     # возведение в квадрат\n",
        "print(x % 2)      # остаток от деления  \n",
        "print(1 / x)      # деление"
      ],
      "metadata": {
        "id": "nxqZdeEFkHwP"
      },
      "execution_count": null,
      "outputs": []
    },
    {
      "cell_type": "code",
      "source": [
        "x = np.array([2, 4, 6, 8, 10])\n",
        "y = np.array([1, 2, 3, 4, 5])\n",
        "\n",
        "print(x + y)\n",
        "print(x - y)\n",
        "print(x * y)\n",
        "print(x / y)\n",
        "print(x // y)\n",
        "print(x ** y)"
      ],
      "metadata": {
        "id": "FOSBWORskaaP"
      },
      "execution_count": null,
      "outputs": []
    },
    {
      "cell_type": "markdown",
      "source": [
        "### Индексы и срезы\n",
        "\n",
        "Существуют различные способы выбрать определенные элементы в массиве `ndarray`. Нумерация элементов в массиве (как и в других структурах данных) начинается с нуля. При обращениие к конкретному элементу массива по индексу индекс указывается в квадратных скобках:"
      ],
      "metadata": {
        "id": "k8D7rivzkwEL"
      }
    },
    {
      "cell_type": "code",
      "source": [
        "x = np.arange(-5,5)\n",
        "print('x =', x)\n",
        "print('x[3] =', x[3])\n",
        "print('x[-1] =', x[-1])"
      ],
      "metadata": {
        "id": "rVlpva4yk5UP"
      },
      "execution_count": null,
      "outputs": []
    },
    {
      "cell_type": "markdown",
      "source": [
        "Срез (slice) представляет собой инструмент для работы с подмножествами элементов массива. Срез записывается как обращение к элементам массива по индексу вида `some_array[START:STOP:STEP]`, где \n",
        "`START` — индекс первого выбираемого элемента,\n",
        "`STOP` — индекс элемента, перед которым срез должен закончиться (т.е. сам элемент с индексом `STOP` не будет выбираться),\n",
        "`STEP` — шаг прироста выбираемых индексов.\n",
        "\n",
        "Любой из трёх параметров среза может быть опущен и вместо соответствующего параметра будет выбрано значение по умолчанию, а именно,\n",
        "`START` по умолчанию означает \"от начала массива\",\n",
        "`STOP` по умолчанию означает \"до конца массива\" (включительно),\n",
        "`STEP` по умолчанию означает \"брать каждый элемент\"."
      ],
      "metadata": {
        "id": "QITl7ehknBBN"
      }
    },
    {
      "cell_type": "code",
      "source": [
        "y = x[3:5]     # y - это срез \n",
        "print(\"y =\",y)"
      ],
      "metadata": {
        "id": "LwSkwdhrlLza"
      },
      "execution_count": null,
      "outputs": []
    },
    {
      "cell_type": "markdown",
      "source": [
        "Срезы могут использоваться не только для выборки, но и для присваивания значений. Например, для присваивания значения каждому элементу можно использовать такой код:"
      ],
      "metadata": {
        "id": "9r4JlPHtwdrE"
      }
    },
    {
      "cell_type": "code",
      "source": [
        "y[:] = 1000    # каждый элемент y заменяется на 1000\n",
        "print(\"y =\",y)"
      ],
      "metadata": {
        "id": "_l0cCbG6wUv1"
      },
      "execution_count": null,
      "outputs": []
    },
    {
      "cell_type": "markdown",
      "source": [
        "Срез массива представляет собой указатель на подмассив, поэтому изменение среза приводит к изменению самого массива:"
      ],
      "metadata": {
        "id": "IH2zPokhxCs-"
      }
    },
    {
      "cell_type": "code",
      "source": [
        "print(\"x =\",x) # изменение y приводит к изменению x"
      ],
      "metadata": {
        "id": "gUQqlHqLxDWN"
      },
      "execution_count": null,
      "outputs": []
    },
    {
      "cell_type": "markdown",
      "source": [
        "Срез массива является представлением тех же самых данных (ссылку на данные), а для создания копии данных массива можно воспользоваться методом `copy()`:"
      ],
      "metadata": {
        "id": "AjNTp0r5x2Sl"
      }
    },
    {
      "cell_type": "code",
      "source": [
        "z = x[3:5].copy()   # делаем копию подмассива\n",
        "print(\"z =\",z)\n",
        "z[:] = 500          # изменяем z\n",
        "print(\"z =\",z)\n",
        "print(\"x =\",x)      # изменение z не влияет на x"
      ],
      "metadata": {
        "id": "Hpsp6iwPyFI2"
      },
      "execution_count": null,
      "outputs": []
    },
    {
      "cell_type": "markdown",
      "source": [
        "Объект `ndarray` также поддерживает булево индексирование. Создадим двумерный массив 3 х 4:"
      ],
      "metadata": {
        "id": "Z5iSmIK2ysvL"
      }
    },
    {
      "cell_type": "code",
      "source": [
        "my2darr = np.arange(1,13,1).reshape(3,4)\n",
        "print(my2darr)"
      ],
      "metadata": {
        "id": "2SDmngfmyu1M"
      },
      "execution_count": null,
      "outputs": []
    },
    {
      "cell_type": "markdown",
      "source": [
        "Например, на число 3 с остатком 1 делятся элементы массива, имеющие значения 1, 4, 7, 10:"
      ],
      "metadata": {
        "id": "AtnwTvvXzTwC"
      }
    },
    {
      "cell_type": "code",
      "source": [
        "my2darr % 3 == 1"
      ],
      "metadata": {
        "id": "52fhUXO4zI3W"
      },
      "execution_count": null,
      "outputs": []
    },
    {
      "cell_type": "markdown",
      "source": [
        "Можно отобрать эти элементы массива в одномерный массив при помощи следующего кода:"
      ],
      "metadata": {
        "id": "Mfd7BRgGzt8T"
      }
    },
    {
      "cell_type": "code",
      "source": [
        "divBy3 = my2darr[my2darr % 3 == 1]\n",
        "print(\"Тип =\",type(divBy3),\"  Ранг =\",divBy3.ndim,\"  Размеры =\",divBy3.shape)\n",
        "print('divBy3  =', divBy3)"
      ],
      "metadata": {
        "id": "PHYflaO-y43i"
      },
      "execution_count": null,
      "outputs": []
    },
    {
      "cell_type": "markdown",
      "source": [
        "Можно отбирать независимо индексы строк и столбцов в `my2darr`. Например, выберем строки, начиная со строки с индексом 1 (т.е. опуская первую строку), и столбцы, для которых элемент в последней строке (с индексом 2) делится без остатка на 3:"
      ],
      "metadata": {
        "id": "dK6HqtoA0iqq"
      }
    },
    {
      "cell_type": "code",
      "source": [
        "divBy3LastRow = my2darr[1:, my2darr[2,:] % 3 == 0]\n",
        "print('divBy3LastRow =\\n', divBy3LastRow)"
      ],
      "metadata": {
        "id": "Zf74F9J60YYI"
      },
      "execution_count": null,
      "outputs": []
    },
    {
      "cell_type": "markdown",
      "source": [
        "Также объект `ndarray` допускает индексирование массивами или списками целых чисел:"
      ],
      "metadata": {
        "id": "4AqVeb-S1qAR"
      }
    },
    {
      "cell_type": "code",
      "source": [
        "indices = [2,1,0,3]    # выбранные индексы столбцов\n",
        "print(my2darr[:,indices])"
      ],
      "metadata": {
        "id": "KDIWKbcG1tfG"
      },
      "execution_count": null,
      "outputs": []
    },
    {
      "cell_type": "code",
      "source": [
        "rowIndex = [0,2,0,1,2]     # индексы строк\n",
        "columnIndex = [0,0,1,2,3]  # индексы столбцов\n",
        "print(my2darr[rowIndex,columnIndex])"
      ],
      "metadata": {
        "id": "NW38Imr12Cg3"
      },
      "execution_count": null,
      "outputs": []
    },
    {
      "cell_type": "markdown",
      "source": [
        "### Арифметические и статистические функции __Numpy__\n",
        "\n",
        "В __NumPy__ встроены многие математические функции для манипулирования элементами `ndarray`:"
      ],
      "metadata": {
        "id": "5ZRIifKH2c0h"
      }
    },
    {
      "cell_type": "code",
      "source": [
        "y = np.array([-1.4, 0.4, -3.2, 2.5, 3.4])    # массив чисел\n",
        "print('y =', y)"
      ],
      "metadata": {
        "id": "itaughqT240b"
      },
      "execution_count": null,
      "outputs": []
    },
    {
      "cell_type": "code",
      "source": [
        "print('abs(y) =', np.abs(y))          # абсолютные значения"
      ],
      "metadata": {
        "id": "4pAzA8WT2-n3"
      },
      "execution_count": null,
      "outputs": []
    },
    {
      "cell_type": "code",
      "source": [
        "print('sqrt(abs(y)) =', np.sqrt(np.abs(y)))  # квадратный корень из абс. значений"
      ],
      "metadata": {
        "id": "QMqOWxVL2_ME"
      },
      "execution_count": null,
      "outputs": []
    },
    {
      "cell_type": "code",
      "source": [
        "print('sign(y) =', np.sign(y))         # знак каждого элемента"
      ],
      "metadata": {
        "id": "LvxR2_oW2_ef"
      },
      "execution_count": null,
      "outputs": []
    },
    {
      "cell_type": "code",
      "source": [
        "print('exp(y) =', np.exp(y))          # экспонента"
      ],
      "metadata": {
        "id": "mygnc2HF2_v9"
      },
      "execution_count": null,
      "outputs": []
    },
    {
      "cell_type": "code",
      "source": [
        "print('sort(y) =', np.sort(y))         # сортировка"
      ],
      "metadata": {
        "id": "XW07jNZu3VJ5"
      },
      "execution_count": null,
      "outputs": []
    },
    {
      "cell_type": "code",
      "source": [
        "print(\"Минимум  =\", np.min(y))           \n",
        "print(\"Максимум =\", np.max(y))      \n",
        "print(\"Сумма =\",    np.sum(y))        \n",
        "print(\"Среднее  =\", np.mean(y))        \n",
        "print(\"Стандартное отклонение =\", np.std(y))      "
      ],
      "metadata": {
        "id": "O-gHzNS83a8P"
      },
      "execution_count": null,
      "outputs": []
    },
    {
      "cell_type": "markdown",
      "source": [
        "Также бывают полезны такие функции как определение индекса минимального и максимального элемента:"
      ],
      "metadata": {
        "id": "ddYe_wvL3vEd"
      }
    },
    {
      "cell_type": "code",
      "source": [
        "print('Индекс мин. элемента =', np.argmin(y))\n",
        "print('Индекс макс.элемента =', np.argmax(y))"
      ],
      "metadata": {
        "id": "6jFMjeAs34As"
      },
      "execution_count": null,
      "outputs": []
    },
    {
      "cell_type": "markdown",
      "source": [
        "### Линейная алгебра в __Numpy__\n",
        "\n",
        "__Numpy__ поддерживает многие операции линейной алгебры, например, транспонирование матрицы и матричное умножение:"
      ],
      "metadata": {
        "id": "LRG8TBZICThW"
      }
    },
    {
      "cell_type": "code",
      "source": [
        "X = np.random.randn(2,4) # случайная матрица 2 x 4 \n",
        "print('X =\\n', X, '\\n')\n",
        "print('X^T =\\n', X.T)               # транспонирование матрицы X^T "
      ],
      "metadata": {
        "id": "5gBYAjBICeyP"
      },
      "execution_count": null,
      "outputs": []
    },
    {
      "cell_type": "code",
      "source": [
        "y = np.random.randn(4) # случайный вектор\n",
        "print('y =', y)"
      ],
      "metadata": {
        "id": "fD217SIYCx9E"
      },
      "execution_count": null,
      "outputs": []
    },
    {
      "cell_type": "code",
      "source": [
        "print('X * y =', X.dot(y))        # умножение матрицы X на вектор y: X * y"
      ],
      "metadata": {
        "id": "nL37AwZ1C_8O"
      },
      "execution_count": null,
      "outputs": []
    },
    {
      "cell_type": "code",
      "source": [
        "print('X * X^T =\\n', X.dot(X.T))  # умножение матрицы X на матрицу X^T: X * X^T"
      ],
      "metadata": {
        "id": "CUj9AZkjDM78"
      },
      "execution_count": null,
      "outputs": []
    },
    {
      "cell_type": "code",
      "source": [
        "print('X^T * X =\\n', X.T.dot(X))  # умножение матрицы X^T на матрицу X: X^T * X"
      ],
      "metadata": {
        "id": "PO6XeJGBDZWQ"
      },
      "execution_count": null,
      "outputs": []
    },
    {
      "cell_type": "markdown",
      "source": [
        "Также в __NumPy__ поддерживается вычисление определителя, обратной матрицы, собственных значений и собственных векторов матрицы:"
      ],
      "metadata": {
        "id": "pej6QOQDDkOs"
      }
    },
    {
      "cell_type": "code",
      "source": [
        "X = np.random.randn(5,3)     # случайная матрица 5 x 3\n",
        "print('X =\\n', X)"
      ],
      "metadata": {
        "id": "qjJbLtJFDq7u"
      },
      "execution_count": null,
      "outputs": []
    },
    {
      "cell_type": "code",
      "source": [
        "C = X.T.dot(X)               # C = X^T * X - это квадратная матрица 3 на 3\n",
        "print('C = X^T * X =\\n', C)"
      ],
      "metadata": {
        "id": "8Yj9p5-1DzVT"
      },
      "execution_count": null,
      "outputs": []
    },
    {
      "cell_type": "code",
      "source": [
        "detC = np.linalg.det(C)      # определитель матрицы\n",
        "print('det(C) =', detC)"
      ],
      "metadata": {
        "id": "8pWJazacEbjU"
      },
      "execution_count": null,
      "outputs": []
    },
    {
      "cell_type": "code",
      "source": [
        "invC = np.linalg.inv(C)      # обратная матрица 3 на 3\n",
        "print('C^(-1) =\\n', invC)"
      ],
      "metadata": {
        "id": "MgM0na7nENIF"
      },
      "execution_count": null,
      "outputs": []
    },
    {
      "cell_type": "code",
      "source": [
        "S, U = np.linalg.eig(C)      # собственные значения S и собственные векторы U \n",
        "print('Собственные значения S:', S, '\\n') # собственные значения (по убыванию)\n",
        "print('Собственные векторы S:\\n', U)  # собственные векторы в столбцах матрицы"
      ],
      "metadata": {
        "id": "ensBL1ngEoSi"
      },
      "execution_count": null,
      "outputs": []
    },
    {
      "cell_type": "code",
      "source": [
        "C.dot(U[:,0])/S[0] # проверка!"
      ],
      "metadata": {
        "id": "v_RfS0fcFDnM"
      },
      "execution_count": null,
      "outputs": []
    },
    {
      "cell_type": "markdown",
      "source": [
        "## Библиотека __Pandas__\n",
        "\n",
        "Библиотека [__Pandas__](https://pandas.pydata.org) содержит две удобных структуры данных для хранения и манипуляций с данными – объекты `Series` и `DataFrame`. Объект `Series` подобен одномерному массиву, в то время, как объект `DataFrame` более напоминает матрицу или таблицу.\n",
        "\n",
        "### Объект `Series`\n",
        "\n",
        "Объект `Series` состоит из одномерного массива значений (свойство `values`), к элементам которого можно обращаться при помощи массива индексов (свойство `index`). Все элементы в объекте `Series` имеют один и тот же тип. Объект `Series` может быть создан из списка, массива __NumPy__ или словаря __Python__. "
      ],
      "metadata": {
        "id": "Mq654sAGXCpI"
      }
    },
    {
      "cell_type": "code",
      "source": [
        "import pandas as pd\n",
        "\n",
        "s1 = pd.Series([3.1, 2.4, -1.7, 0.2, -2.9, 4.5])   # объект Series из списка\n",
        "print(s1)\n",
        "print('Values =', s1.values)     # значения объекта Series\n",
        "print('Index =', s1.index)       # индексы объекта Series"
      ],
      "metadata": {
        "id": "ZrM9mC8TXr4B"
      },
      "execution_count": null,
      "outputs": []
    },
    {
      "cell_type": "code",
      "source": [
        "s2 = pd.Series(np.random.randn(6))  # объект Series из массива numpy\n",
        "print(s2)\n",
        "print('Values =', s2.values)   # значения объекта Series\n",
        "print('Index =', list(s2.index))     # индексы объекта Series"
      ],
      "metadata": {
        "id": "lVxT5AVHX7Ha"
      },
      "execution_count": null,
      "outputs": []
    },
    {
      "cell_type": "code",
      "source": [
        "s3 = pd.Series([1.2,2.5,-2.2,3.1,-0.8,-3.2], \n",
        "            index = ['Jan 1','Jan 2','Jan 3','Jan 4','Jan 5','Jan 6',])\n",
        "print(s3)\n",
        "print('Values=', s3.values)   # значения объекта Series\n",
        "print('Index=', s3.index)     # индексы объекта Series"
      ],
      "metadata": {
        "id": "oCdIxSzQYZ-o"
      },
      "execution_count": null,
      "outputs": []
    },
    {
      "cell_type": "code",
      "source": [
        "capitals = {'MI':'Lansing', 'CA':'Sacramento', 'TX':'Austin', 'MN':'St Paul'}\n",
        "\n",
        "s4 = pd.Series(capitals)   # объект Series из словаря\n",
        "print(s4)\n",
        "print('Values=', s4.values)     # значения объекта Series\n",
        "print('Index =', list(s4.index)) # индексы объекта Series"
      ],
      "metadata": {
        "id": "K0FeWyj4YqBu"
      },
      "execution_count": null,
      "outputs": []
    },
    {
      "cell_type": "markdown",
      "source": [
        "Доступ к элементам объекта `Series` возможен по номеру объекта или по ключу:"
      ],
      "metadata": {
        "id": "KIjgT4tSY6fw"
      }
    },
    {
      "cell_type": "code",
      "source": [
        "print('\\ns3[2]=', s3[2])             # доступ по номеру\n",
        "print('s3[\\'Jan 3\\']=', s3['Jan 3']) # доступ по индексу\n",
        "\n",
        "print('\\ns3[1:3]=')                  # срез объекта Series\n",
        "print(s3[1:3])"
      ],
      "metadata": {
        "id": "I9OGPTdwZF7Z"
      },
      "execution_count": null,
      "outputs": []
    },
    {
      "cell_type": "markdown",
      "source": [
        "Большинство функций __NumPy__ могут применяться к объекту `Series`:"
      ],
      "metadata": {
        "id": "lhmEJIXVZfdY"
      }
    },
    {
      "cell_type": "code",
      "source": [
        "print('shape =', s3.shape)  # размеры Series\n",
        "print('size =', s3.size)    # число элементов в Series"
      ],
      "metadata": {
        "id": "9WAOPBC8Zkbd"
      },
      "execution_count": null,
      "outputs": []
    },
    {
      "cell_type": "code",
      "source": [
        "print(s3[s3 < 0])   # фильтр для выбора элементов Series"
      ],
      "metadata": {
        "id": "fqAKG8kWZwK4"
      },
      "execution_count": null,
      "outputs": []
    },
    {
      "cell_type": "code",
      "source": [
        "print(s3 + 4, '\\n') # операции числового объекта Series со скалярными величинами\n",
        "print(s3 / 4, '\\n')    \n",
        "print(np.log(s3 + 4), '\\n') # функция numpy от числового объекта Series"
      ],
      "metadata": {
        "id": "kxfsf1hlZrmn"
      },
      "execution_count": null,
      "outputs": []
    },
    {
      "cell_type": "markdown",
      "source": [
        "## Объект `DataFrame`\n",
        "\n",
        "Объект `DataFrame` представляет собой табличную структуру данных, содержащую набор столбцов, каждый из которых может иметь различный тип (числовой, строковый, логический и т.п.). В отличие от объекта `Series` объект `DataFrame` имеет различные индексы для строк и столбцов. Существуют различные способы создания объекта `DataFrame` (например, из словаря, списка кортежей или массивов `ndarray`)."
      ],
      "metadata": {
        "id": "YPEyNLqGdXp2"
      }
    },
    {
      "cell_type": "code",
      "source": [
        "cars = {'make': ['Ford', 'Honda', 'Toyota', 'Tesla'],\n",
        "       'model': ['Taurus', 'Accord', 'Camry', 'Model S'],\n",
        "       'MSRP': [27595, 23570, 23495, 68000]}          \n",
        "carData = pd.DataFrame(cars)   # объект DataFrame из словаря\n",
        "print(carData)              "
      ],
      "metadata": {
        "id": "AaP_XsAUdnJs"
      },
      "execution_count": null,
      "outputs": []
    },
    {
      "cell_type": "code",
      "source": [
        "print(list(carData.index))       # индексы строк\n",
        "print(list(carData.columns))     # индексы столбцов"
      ],
      "metadata": {
        "id": "jvIyENdOd5i5"
      },
      "execution_count": null,
      "outputs": []
    },
    {
      "cell_type": "code",
      "source": [
        "carData2 = pd.DataFrame(cars, index=[100,200,300,400]) # изменяем индексы строк\n",
        "carData2['year'] = 2022    # добавляем столбец с одним и тем же значением\n",
        "carData2['dealer'] = ['Courtesy Ford','Capital Honda','Spartan Toyota','NA']\n",
        "print(carData2)     "
      ],
      "metadata": {
        "id": "f-LW5smfeVc6"
      },
      "execution_count": null,
      "outputs": []
    },
    {
      "cell_type": "markdown",
      "source": [
        "Объект `DataFrame` может быть создан из списка кортежей:"
      ],
      "metadata": {
        "id": "HDR6jjY0etop"
      }
    },
    {
      "cell_type": "code",
      "source": [
        "tuplelist = [(2015,7.3,32.4),(2016,5.8,34.5),(2017,8.4,39.2),\n",
        "              (2018,6.8,31.4),(2019,4.4,29.8),(2020,5.3,36.7)]\n",
        "columnNames = ['Год','Темп','Осадки']\n",
        "weatherData = pd.DataFrame(tuplelist, columns=columnNames)\n",
        "print(weatherData)"
      ],
      "metadata": {
        "id": "Z9L_zcOsekuJ"
      },
      "execution_count": null,
      "outputs": []
    },
    {
      "cell_type": "markdown",
      "source": [
        "Объект `DataFrame` может быть создан из массива __NumPy__ (объекта `ndarray`):"
      ],
      "metadata": {
        "id": "FwHmhqmSe4yz"
      }
    },
    {
      "cell_type": "code",
      "source": [
        "npdata = np.random.randn(5,3)  # случайная матрица 5 на 3\n",
        "columnNames = ['x1','x2','x3']\n",
        "data = pd.DataFrame(npdata, columns=columnNames)\n",
        "print(data)"
      ],
      "metadata": {
        "id": "APQo5shofBYw"
      },
      "execution_count": null,
      "outputs": []
    },
    {
      "cell_type": "markdown",
      "source": [
        "Для обращения к столбцу объекта `DataFrame` можно использовать имя столбца (в квадратных скобках как символьную строку или иногда через точку): "
      ],
      "metadata": {
        "id": "iXjuCsEY8sEK"
      }
    },
    {
      "cell_type": "code",
      "source": [
        "print(data.x2,'\\n')\n",
        "print(type(data['x2']))"
      ],
      "metadata": {
        "id": "VYizNX698uuL"
      },
      "execution_count": null,
      "outputs": []
    },
    {
      "cell_type": "markdown",
      "source": [
        "В результате получаем объект `Series`. \n",
        "\n",
        "Над объектами `DataFrame` можно совершать различные операции."
      ],
      "metadata": {
        "id": "KYImLQai9N1X"
      }
    },
    {
      "cell_type": "code",
      "source": [
        "data"
      ],
      "metadata": {
        "id": "bRaRUeL--lVt"
      },
      "execution_count": null,
      "outputs": []
    },
    {
      "cell_type": "code",
      "source": [
        "print(\"Данные:\\n\",data)"
      ],
      "metadata": {
        "id": "Sj2KAzNUIdPA"
      },
      "execution_count": null,
      "outputs": []
    },
    {
      "cell_type": "code",
      "source": [
        "print('Транспонированные данные:')\n",
        "print(data.T)    # транспонирование"
      ],
      "metadata": {
        "id": "MfvqlsCQIm_m"
      },
      "execution_count": null,
      "outputs": []
    },
    {
      "cell_type": "code",
      "source": [
        "print('Сложение:')\n",
        "print(data + 4)    # операция сложения"
      ],
      "metadata": {
        "id": "jOwOdao0Iy68"
      },
      "execution_count": null,
      "outputs": []
    },
    {
      "cell_type": "code",
      "source": [
        "# columnNames = ['x1','x2','x3']\n",
        "data2 = pd.DataFrame(np.random.randn(5,3), columns=columnNames)\n",
        "print('\\ndata2 =')\n",
        "print(data2)"
      ],
      "metadata": {
        "id": "z9kUdHzMI5pO"
      },
      "execution_count": null,
      "outputs": []
    },
    {
      "cell_type": "code",
      "source": [
        "print('\\ndata + data2 = ')\n",
        "print(data+data2) # data.add(data2)\n",
        "\n",
        "print('\\ndata * data2 = ')\n",
        "print(data*data2) # data.mul(data2)"
      ],
      "metadata": {
        "id": "73YTQ_OiJGZ5"
      },
      "execution_count": null,
      "outputs": []
    },
    {
      "cell_type": "code",
      "source": [
        "print(data.abs())    # абсолютное значение по каждому элементу"
      ],
      "metadata": {
        "id": "C5RtuIbmJYqS"
      },
      "execution_count": null,
      "outputs": []
    },
    {
      "cell_type": "markdown",
      "source": [
        "В объекте `DataFrame` два измерения – по строкам (параметр `axis=0`) и по столбцам (параметр `axis=1`).  "
      ],
      "metadata": {
        "id": "p8sWeoYpk1Qt"
      }
    },
    {
      "cell_type": "code",
      "source": [
        "print('\\nМаксимальное значение по столбцам:')\n",
        "print(data.max()) # максимальное значение по столбцам (по умолчанию axis=0)"
      ],
      "metadata": {
        "id": "73OM5flvJa8H"
      },
      "execution_count": null,
      "outputs": []
    },
    {
      "cell_type": "code",
      "source": [
        "print('\\nМинимальное значение по строкам:')\n",
        "print(data.min(axis=1)) # минимальное значение по строкам"
      ],
      "metadata": {
        "id": "4sc_PUGBJiex"
      },
      "execution_count": null,
      "outputs": []
    },
    {
      "cell_type": "code",
      "source": [
        "print('\\nСумма значений по столбцам:')\n",
        "print(data.sum()) # найти сумму значений для каждого столбца"
      ],
      "metadata": {
        "id": "_jJVfyMdJqEr"
      },
      "execution_count": null,
      "outputs": []
    },
    {
      "cell_type": "code",
      "source": [
        "print('\\nСреднее значение по строкам:')\n",
        "print(data.mean(axis=1)) # найти среднее значение для каждой строки"
      ],
      "metadata": {
        "id": "l9fDc_OrJvR8"
      },
      "execution_count": null,
      "outputs": []
    },
    {
      "cell_type": "markdown",
      "source": [
        "## Библиотека __Tensorflow__\n",
        "\n",
        "[__TensorFlow__](https://www.tensorflow.org) — открытая программная библиотека для машинного обучения, разработанная компанией Google для решения задач построения и обучения нейронных сетей.\n",
        "\n",
        "### Загрузка данных из __Tensorflow Datasets__\n",
        "\n",
        "Модуль __Tensorflow Datasets__ (TFDS) представляет собой коллекцию из более чем тысячи наборов данных для использования в учебных и исследовательских целях с библиотекой __TensorFlow__.\n"
      ],
      "metadata": {
        "id": "KSGoo8NRPym1"
      }
    },
    {
      "cell_type": "code",
      "source": [
        "import tensorflow_datasets as tfds"
      ],
      "metadata": {
        "id": "7upKfWfxsAhk"
      },
      "execution_count": null,
      "outputs": []
    },
    {
      "cell_type": "markdown",
      "source": [
        "Считаем из TFDS набор данных [__Ирисы__](https://www.tensorflow.org/datasets/catalog/iris):  "
      ],
      "metadata": {
        "id": "E_bvQNbzsSrE"
      }
    },
    {
      "cell_type": "code",
      "source": [
        "ds = tfds.load(\"iris\", split='train') \n",
        "ds"
      ],
      "metadata": {
        "id": "2JzBPaGis2kA"
      },
      "execution_count": null,
      "outputs": []
    },
    {
      "cell_type": "markdown",
      "source": [
        "Преобразуем объект `PrefetchDataset` в датафрейм:"
      ],
      "metadata": {
        "id": "74UskaLFtGL1"
      }
    },
    {
      "cell_type": "code",
      "source": [
        "df = tfds.as_dataframe(ds)\n",
        "df.head()"
      ],
      "metadata": {
        "id": "YAdf9TKKtSfJ"
      },
      "execution_count": null,
      "outputs": []
    },
    {
      "cell_type": "markdown",
      "source": [
        "Добавим в датафрейм новые четыре признака `V0`, `V1`, `V2`, `V3`:"
      ],
      "metadata": {
        "id": "SyTDw_ZGttWu"
      }
    },
    {
      "cell_type": "code",
      "source": [
        "for i in range(4):\n",
        "    df['V'+str(i)] = df['features'].apply([lambda x:x[i]])\n",
        "\n",
        "df.head()"
      ],
      "metadata": {
        "id": "9omfvnQRtpvN"
      },
      "execution_count": null,
      "outputs": []
    },
    {
      "cell_type": "markdown",
      "source": [
        "Удалим из датафрейма столбец `features`:"
      ],
      "metadata": {
        "id": "_Dnrq475uRPj"
      }
    },
    {
      "cell_type": "code",
      "source": [
        "df.drop(columns=['features'],inplace=True)\n",
        "df.head()"
      ],
      "metadata": {
        "id": "WiE_8hZ3uYqL"
      },
      "execution_count": null,
      "outputs": []
    },
    {
      "cell_type": "markdown",
      "source": [
        "### Дескриптивный анализ\n",
        "\n",
        "__Дескриптивный__ (описательный) __анализ__ (аналитика, статистика) – это разновидность анализа данных, ориентированная на сбор, систематизацию и обобщение данных с целью обнаружения в них интерпретируемых зависимостей и закономерностей.\n",
        "\n",
        "1. Значения данных и их частоты\n",
        "\n",
        "Таблица частот (вообще говоря, для нечисловых признаков) может быть построена следующей командой:"
      ],
      "metadata": {
        "id": "8l3_3I_-woun"
      }
    },
    {
      "cell_type": "code",
      "source": [
        "df['label'].value_counts()"
      ],
      "metadata": {
        "id": "8BSkgGd4w4jc"
      },
      "execution_count": null,
      "outputs": []
    },
    {
      "cell_type": "code",
      "source": [
        "df['label'].unique()"
      ],
      "metadata": {
        "id": "47M_2BV7xP83"
      },
      "execution_count": null,
      "outputs": []
    },
    {
      "cell_type": "markdown",
      "source": [
        "2. Средние значения (центральная тенденция) данных"
      ],
      "metadata": {
        "id": "EYsJ1Oe1xXSc"
      }
    },
    {
      "cell_type": "code",
      "source": [
        "df.mean() # средние значения"
      ],
      "metadata": {
        "id": "43KUAA9Rxgp0"
      },
      "execution_count": null,
      "outputs": []
    },
    {
      "cell_type": "code",
      "source": [
        "df.median() # медианы"
      ],
      "metadata": {
        "id": "IILNIiVNx8lb"
      },
      "execution_count": null,
      "outputs": []
    },
    {
      "cell_type": "markdown",
      "source": [
        "3. Рассеяние (разброс) данных"
      ],
      "metadata": {
        "id": "lznyHPuMya_M"
      }
    },
    {
      "cell_type": "code",
      "source": [
        "df.min() # минимумы"
      ],
      "metadata": {
        "id": "QOQFeXlfyl2i"
      },
      "execution_count": null,
      "outputs": []
    },
    {
      "cell_type": "code",
      "source": [
        "df.max() # максимумы"
      ],
      "metadata": {
        "id": "xhcNDfxIy1VJ"
      },
      "execution_count": null,
      "outputs": []
    },
    {
      "cell_type": "code",
      "source": [
        "df.std() # стандартные отклонения"
      ],
      "metadata": {
        "id": "Bklkqqcty_Qq"
      },
      "execution_count": null,
      "outputs": []
    },
    {
      "cell_type": "markdown",
      "source": [
        "4. Расположение данных (квантили распределения)"
      ],
      "metadata": {
        "id": "OQs27DDPz5WS"
      }
    },
    {
      "cell_type": "code",
      "source": [
        "df.quantile(0.8)"
      ],
      "metadata": {
        "id": "CpOhCPGMz-ik"
      },
      "execution_count": null,
      "outputs": []
    },
    {
      "cell_type": "code",
      "source": [
        "df.describe()"
      ],
      "metadata": {
        "id": "jrQn44l70Hhq"
      },
      "execution_count": null,
      "outputs": []
    },
    {
      "cell_type": "markdown",
      "source": [
        "### Визуализация данных датасета\n",
        "\n",
        "В __Pandas__ имеются встроенные средства для отображения данных объектов `Series` и `DataFrame`. Например, __линейный график__ (line plot) состоит из серии точек, соединенных линиями:"
      ],
      "metadata": {
        "id": "-PY3AsNV0zIO"
      }
    },
    {
      "cell_type": "code",
      "source": [
        "df['V0'].plot.line(title='Линейный график признака V0');"
      ],
      "metadata": {
        "id": "UnQ0n0Jb4oWi"
      },
      "execution_count": null,
      "outputs": []
    },
    {
      "cell_type": "code",
      "source": [
        "df.plot.line(title='Линейный график признаков набора Ирисы',figsize=(12,6));"
      ],
      "metadata": {
        "id": "kvRyrxbD4zhX"
      },
      "execution_count": null,
      "outputs": []
    },
    {
      "cell_type": "markdown",
      "source": [
        "__Столбчатая диаграмма__ (bar chart) представляет величины прямоугольными зонами, высоты или длины которых пропорциональны величинам, которые они отображают:"
      ],
      "metadata": {
        "id": "2n027BFL5Fpm"
      }
    },
    {
      "cell_type": "code",
      "source": [
        "df['V0'].plot.bar(title='Столбчатая диаграмма признака V0', figsize=(15,6));"
      ],
      "metadata": {
        "id": "Ch8GtbAM5Ox3"
      },
      "execution_count": null,
      "outputs": []
    },
    {
      "cell_type": "code",
      "source": [
        "df[::5]['V0'].plot.bar(title='Столбчатая диаграмма признака V0'); # шаг 10"
      ],
      "metadata": {
        "id": "CdrrKnL65oeo"
      },
      "execution_count": null,
      "outputs": []
    },
    {
      "cell_type": "code",
      "source": [
        "df[::10].plot.bar(title='Столбчатая диаграмма признаков набора Ирисы',\n",
        "                       figsize=(12,8));"
      ],
      "metadata": {
        "id": "yGqWne_959Nv"
      },
      "execution_count": null,
      "outputs": []
    },
    {
      "cell_type": "markdown",
      "source": [
        "__Гистограмма__ (histogram) — это столбчатая диаграмма, в которой высота каждого прямоугольника (или его площадь) пропорциональна числу элементов выборки, попадающих в соответствующий интервал. "
      ],
      "metadata": {
        "id": "Rc-clEwp6IfK"
      }
    },
    {
      "cell_type": "code",
      "source": [
        "df['V0'].plot.hist(bins=15,title='Гистограмма признака V0');"
      ],
      "metadata": {
        "id": "UPQpok7k6Kq-"
      },
      "execution_count": null,
      "outputs": []
    },
    {
      "cell_type": "markdown",
      "source": [
        "__Диаграмма размаха__ (box plot) в удобной форме показывает медиану (среднее), первый (25%) и третий (75%) квартили, края статистически значимой выборки (минимальное и максимальное значения) и, возможно, выбросы."
      ],
      "metadata": {
        "id": "e65YYQUB6dog"
      }
    },
    {
      "cell_type": "code",
      "source": [
        "df['V0'].plot.box(title='Диаграмма размаха признака V0');"
      ],
      "metadata": {
        "id": "aa18B15c6hRj"
      },
      "execution_count": null,
      "outputs": []
    },
    {
      "cell_type": "code",
      "source": [
        "df.plot.box(by='class',title='Диаграммы размаха признаков набора Ирисы');"
      ],
      "metadata": {
        "id": "yNq2S-gn6zmM"
      },
      "execution_count": null,
      "outputs": []
    },
    {
      "cell_type": "markdown",
      "source": [
        "__Диаграмма рассеяния__ (scatter plot) изображает значения двух переменных в виде точек на плоскости:"
      ],
      "metadata": {
        "id": "Bknghkmg6wBU"
      }
    },
    {
      "cell_type": "code",
      "source": [
        "df.plot.scatter('V0','V1',title='Диаграмма рассеяния признаков V0 и V1');"
      ],
      "metadata": {
        "id": "RdNK-tho7GGw"
      },
      "execution_count": null,
      "outputs": []
    },
    {
      "cell_type": "markdown",
      "source": [
        "## Разведочный анализ данных\n",
        "\n",
        "__Разведочный анализ данных__ (exploratory data analysis) — анализ основных свойств данных, нахождение в них общих закономерностей, распределений и аномалий, построение моделей данных с использованием инструментов визуализации.\n",
        "\n",
        "Основные средства разведочного анализа — изучение вероятностных распределений переменных, построение и анализ корреляционных матриц, факторный анализ, дискриминантный анализ.\n",
        "\n",
        "### Эмпирическая функция и эмпирическая плотность распределения\n",
        "\n",
        "Пусть рассматривается числовой признак $X$, принимающий значения $x_{i},i=\\overline{1,n}.$\n",
        "\n",
        "Тогда __эмпирическая__ (кумулятивная) __функция распределения__ (CDF) в точке $x$ задается как сумма относительных частот для всех элементов выборки $\\{x_{i}\\}$, меньше или равных $x$:\n",
        "\n",
        "$\\hat{F}(x)=\\frac{1}{n}\\;\\sum_{i=1}^{n}I\\left(x_{i}\\leqslant x\\right)$,\n",
        "\n",
        "где индикаторная переменная $I$ принимает значение $1$, когда указанное в качестве аргумента условие выполняется, или $0$ в противном случае. Для каждой точки $x_{i}$ используется одинаковая относительная частотв (коэффициент) $\\frac{1}{n}$. "
      ],
      "metadata": {
        "id": "gW0-2gWU9X06"
      }
    },
    {
      "cell_type": "code",
      "source": [
        "def ECDF(data, x):\n",
        "    counter = 0\n",
        "    for v in data:\n",
        "        if v <= x:\n",
        "            counter += 1\n",
        "    return counter / len(data)"
      ],
      "metadata": {
        "id": "gU8OUevx9nwg"
      },
      "execution_count": null,
      "outputs": []
    },
    {
      "cell_type": "code",
      "source": [
        "samples = df['V0'] # sepal length\n",
        "npoints = 500\n",
        "dx = (samples.max()-samples.min())/npoints\n",
        "\n",
        "xlist = [samples.min()+dx*i for i in range(npoints)]\n",
        "ylist = [ECDF(samples, x) for x in xlist]"
      ],
      "metadata": {
        "id": "FM9IB-4G9vrR"
      },
      "execution_count": null,
      "outputs": []
    },
    {
      "cell_type": "code",
      "source": [
        "df_ECDF = pd.DataFrame(ylist, columns=['V0'],index=xlist)\n",
        "df_ECDF\n"
      ],
      "metadata": {
        "id": "3AzIA-dE-BQ3"
      },
      "execution_count": null,
      "outputs": []
    },
    {
      "cell_type": "code",
      "source": [
        "df_ECDF.plot.line(title='График эмпирической функции распределения признака V0');"
      ],
      "metadata": {
        "id": "DoppqXiy-8mu"
      },
      "execution_count": null,
      "outputs": []
    },
    {
      "cell_type": "markdown",
      "source": [
        "__Эмпирическая__ (выборочная) __плотность распределения__ (PDF) – это ступенчатая функция, в которой высота ступени на промежутке вычисляется из условия, что площадь прямоугольника (ступени) равна относительной частоте попадания в этот промежуток. \n",
        "\n",
        "Для построения эмпирической плотности распределения можно воспользоваться мет одом для построения гистограммы с параметром `density=True`:"
      ],
      "metadata": {
        "id": "FU8zkTJh_yBe"
      }
    },
    {
      "cell_type": "code",
      "source": [
        "df['V0'].plot.hist(density=True);"
      ],
      "metadata": {
        "id": "5vC6hBQOBvyK"
      },
      "execution_count": null,
      "outputs": []
    },
    {
      "cell_type": "code",
      "source": [
        "df['V0'].plot.hist(color='yellow', edgecolor='black', bins=20, density=True);"
      ],
      "metadata": {
        "id": "QJynmYyNB-oM"
      },
      "execution_count": null,
      "outputs": []
    },
    {
      "cell_type": "markdown",
      "source": [
        "### Ковариация и корреляция между признаками\n",
        "\n",
        "__Ковариация__ — это мера линейной зависимости двух случайных величин. Для вычисления ковариации числовых признаков датафрейма можно воспользоваться методом `cov()`:"
      ],
      "metadata": {
        "id": "taeMBExzCgEb"
      }
    },
    {
      "cell_type": "code",
      "source": [
        "df.cov()"
      ],
      "metadata": {
        "id": "4vBnEbJ8CTZD"
      },
      "execution_count": null,
      "outputs": []
    },
    {
      "cell_type": "markdown",
      "source": [
        "__Корреляция__ (корреляция Пирсона) — это статистическая взаимосвязь двух или более случайных величин. Для вычисления корреляции числовых признаков датафрейма можно воспользоваться методом `corr()`:"
      ],
      "metadata": {
        "id": "0J2ZXGJsC_3h"
      }
    },
    {
      "cell_type": "code",
      "source": [
        "df.corr()"
      ],
      "metadata": {
        "id": "QZ0DwXJLC2KL"
      },
      "execution_count": null,
      "outputs": []
    },
    {
      "cell_type": "markdown",
      "source": [
        "# Задание на лабораторную работу №1\n",
        "\n",
        "В соответствии с индивидуальным заданием, указанным в записной книжке команды или полученным на занятии, скачайте данные для анализа, сделайте необходимые расчеты и постройте следующие визуализации:\n",
        "\n",
        "1. При помощи модуля `tensorflow_datasets` загрузите указанный в индивидуальном задании набор данных и оставьте в наборе данных три указанных в индивидуальном задании признака (столбца).\n",
        "\n",
        "2. В соответствии с индивидуальным заданием вычислите необходимые показатели признаков и визуализируйте соответствующие признаки набора данных.\n",
        "\n",
        "3. В соответствии с индивидуальным заданием выполните необходимые расчеты и визуализируйте диаграмму рассеяния для пары признаков.\n",
        "\n",
        "Сопроводите программный код необходимыми комментариями.\n"
      ],
      "metadata": {
        "id": "dhGCQHAQDWYa"
      }
    }
  ]
}