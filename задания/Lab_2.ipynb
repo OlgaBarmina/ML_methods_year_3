{
  "nbformat": 4,
  "nbformat_minor": 0,
  "metadata": {
    "colab": {
      "name": "Lab_2.ipynb",
      "provenance": []
    },
    "kernelspec": {
      "name": "python3",
      "display_name": "Python 3"
    },
    "language_info": {
      "name": "python"
    }
  },
  "cells": [
    {
      "cell_type": "markdown",
      "source": [
        "# Методы машинного обучения – Лабораторная работа №2\n",
        "\n",
        "# Линейная регрессия"
      ],
      "metadata": {
        "id": "VQlcDy9BC5bE"
      }
    },
    {
      "cell_type": "markdown",
      "source": [
        "## Визуализация данных при помощи __Matplotlib__\n",
        "\n",
        "Библиотека __Matplotlib__ предназначена для визуализации данных."
      ],
      "metadata": {
        "id": "RKlRxa2EKcTu"
      }
    },
    {
      "cell_type": "code",
      "source": [
        "import numpy as np\n",
        "import matplotlib.pyplot as plt"
      ],
      "metadata": {
        "id": "GCNmPhYuurZN"
      },
      "execution_count": null,
      "outputs": []
    },
    {
      "cell_type": "markdown",
      "source": [
        "Построим простую линейную зависимость $y=x$, дадим нашему графику название, подпишем оси и отобразим сетку:"
      ],
      "metadata": {
        "id": "ea4FLN13u0ER"
      }
    },
    {
      "cell_type": "code",
      "source": [
        "# Независимая (x) и зависимая (y) переменные\n",
        "x = np.linspace(0, 10, 50)\n",
        "y = x"
      ],
      "metadata": {
        "id": "YB8EvIk5vDFY"
      },
      "execution_count": null,
      "outputs": []
    },
    {
      "cell_type": "code",
      "source": [
        "plt.title(\"Линейная зависимость y = x\") # заголовок\n",
        "plt.xlabel(\"x\") # ось абсцисс\n",
        "plt.ylabel(\"y\") # ось ординат\n",
        "plt.grid(True)  # включение отображение сетки\n",
        "plt.plot(x, y); # построение графика"
      ],
      "metadata": {
        "id": "eTwVnLapvLbP"
      },
      "execution_count": null,
      "outputs": []
    },
    {
      "cell_type": "markdown",
      "source": [
        "Изменим тип линии и ее цвет, для этого в функцию `plot()` в качестве третьего параметра передадим строку, сформированную определенным образом, в нашем случае это `“r--”`, где `“r”` означает красный цвет, а `“--”` – это тип линии (пунктирная линия)."
      ],
      "metadata": {
        "id": "MfbCnAOmvo_n"
      }
    },
    {
      "cell_type": "code",
      "source": [
        "plt.title(\"Линейная зависимость y = x\") # заголовок\n",
        "plt.xlabel(\"x\") # ось абсцисс\n",
        "plt.ylabel(\"y\") # ось ординат\n",
        "plt.grid(True)  # включение отображение сетки\n",
        "plt.plot(x, y, \"r--\");  # построение графика"
      ],
      "metadata": {
        "id": "p7APqhK-vz6X"
      },
      "execution_count": null,
      "outputs": []
    },
    {
      "cell_type": "markdown",
      "source": [
        "Построим несколько графиков на одном поле, для этого добавим квадратичную зависимость $y=x^2$:"
      ],
      "metadata": {
        "id": "09jU4noIwExK"
      }
    },
    {
      "cell_type": "code",
      "source": [
        "x = np.linspace(0, 10, 50)\n",
        "y1 = x # Линейная зависимость\n",
        "y2 = [i**2 for i in x] # Квадратичная зависимость с исп. спискового генератора\n",
        "# Построение графика\n",
        "plt.title(r\"Зависимости: $y_1 = x, y_2 = x^2$\") # заголовок с r-строкой\n",
        "plt.xlabel(\"x\")              # ось абсцисс\n",
        "plt.ylabel(r\"$y_1, y_2$\")    # ось ординат (с r-строкой)\n",
        "plt.grid(True)               # включение отображение сетки\n",
        "plt.plot(x, y1, x, y2);      # построение графика"
      ],
      "metadata": {
        "id": "TjLFRgqhwY1H"
      },
      "execution_count": null,
      "outputs": []
    },
    {
      "cell_type": "markdown",
      "source": [
        "В приведенном примере в функцию `plot()` передаются два массива для построения первого графика и два массива для построения второго графика, при этом для обоих графиков массив значений независимой переменной $x$ один и то же.\n",
        "\n",
        "Построим уже известные нам две зависимости в виде двух рисунков."
      ],
      "metadata": {
        "id": "95uN08DfCWtf"
      }
    },
    {
      "cell_type": "code",
      "source": [
        "x = np.linspace(0, 10, 50)\n",
        "y1 = x                        # Линейная зависимость\n",
        "y2 = [i**2 for i in x]        # Квадратичная зависимость\n",
        "# Построение графиков\n",
        "plt.figure(figsize=(9, 9))\n",
        "plt.subplot(2, 1, 1)          # график №1 из двух\n",
        "plt.plot(x, y1)               # построение графика\n",
        "plt.title(r\"Зависимости: $y_1 = x$, $y_2 = x^2$\") # заголовок\n",
        "plt.ylabel(r\"$y_1$\", fontsize=14) # ось ординат\n",
        "plt.grid(True)                # включение отображение сетки\n",
        "plt.subplot(2, 1, 2)          # график №2 из двух\n",
        "plt.plot(x, y2)               # построение графика\n",
        "plt.xlabel(r\"$x$\", fontsize=14)  # ось абсцисс\n",
        "plt.ylabel(r\"$y_2$\", fontsize=14) # ось ординат\n",
        "plt.grid(True);               # включение отображение сетки"
      ],
      "metadata": {
        "id": "CxxozfeOC4gL"
      },
      "execution_count": null,
      "outputs": []
    },
    {
      "cell_type": "markdown",
      "source": [
        "Здесь мы воспользовались новыми функциями: \n",
        "\n",
        "`figure()` – функция для задания глобальных параметров отображения графиков. В нее, в качестве аргумента, мы передаем кортеж, определяющий размер общего поля. \n",
        "\n",
        "`subplot()` – функция для задания местоположения поля с графиком. Существует несколько способов задания областей для вывода через функцию `subplot()` мы воспользовались следующим: первый аргумент – количество строк, второй – количество столбцов в формируемом поле, третий – индекс (номер поля, считаем сверху вниз, слева направо).\n",
        "\n",
        "Остальные функции уже вам знакомы, дополнительно мы использовали параметр `fontsize` для функций `xlabel()` и `ylabel()` для задания размера шрифта."
      ],
      "metadata": {
        "id": "9hwtgwQUDzNP"
      }
    },
    {
      "cell_type": "markdown",
      "source": [
        "### Основные элементы графика\n",
        "\n",
        "Рассмотрим основные термины и понятия, касающиеся изображения графиков в библиотеке __Matplotlib__ на следующем более сложном примере:"
      ],
      "metadata": {
        "id": "TTgbNgA1TSFd"
      }
    },
    {
      "cell_type": "code",
      "source": [
        "from matplotlib.ticker import AutoMinorLocator\n",
        "\n",
        "x = np.linspace(0, 10, 10)\n",
        "y1 = 4*x\n",
        "y2 = x**2\n",
        "\n",
        "fig, ax = plt.subplots(figsize=(8, 6))\n",
        "\n",
        "ax.set_title(r\"Графики зависимостей: $y_1=4x$, $y_2=x^2$\", fontsize=16)\n",
        "ax.set_xlabel(r\"$x$\", fontsize=14)        \n",
        "ax.set_ylabel(r\"$y_1, y_2$\", fontsize=14)\n",
        "ax.grid(which=\"major\", linewidth=1.2)\n",
        "ax.grid(which=\"minor\", linestyle=\"--\", color=\"gray\", linewidth=0.5)\n",
        "ax.scatter(x, y1, c=\"red\", label=r\"$y_1 = 4x$\")\n",
        "ax.plot(x, y2, label=r\"$y_2 = x^2$\")\n",
        "ax.legend()\n",
        "\n",
        "ax.xaxis.set_minor_locator(AutoMinorLocator())\n",
        "ax.yaxis.set_minor_locator(AutoMinorLocator())\n",
        "ax.tick_params(which='major', length=10, width=2)\n",
        "ax.tick_params(which='minor', length=5, width=1);"
      ],
      "metadata": {
        "id": "EL49HDihTSFe"
      },
      "execution_count": null,
      "outputs": []
    },
    {
      "cell_type": "markdown",
      "source": [
        "Корневым элементом при построения графиков в системе __Matplotlib__ является объект `Figure`. Все, что нарисовано на рисунке выше является элементами этого объекта.\n",
        "\n",
        "#### График\n",
        "\n",
        "На рисунке представлены два графика – линейный и точечный. __Matplotlib__ предоставляет огромное количество различных настроек, которые можно использовать для того, чтобы придать графику вид, который вам нужен: цвет, толщина и тип линии, стиль линии и многое другое.\n",
        "\n",
        "#### Оси\n",
        "\n",
        "Вторым, после непосредственно самого графика, по важности элементом являются оси. Для каждой оси можно задать метку (подпись), основные (`major`) и дополнительные (`minor`) тики, их подписи, размер и толщину, также можно задать диапазоны по каждой из осей.\n",
        "\n",
        "#### Сетка и легенда\n",
        "\n",
        "Значительно повышают информативность графика сетка и легенда. Сетка может быть основной (`major`) и дополнительной (`minor`). Каждому типу сетки можно задавать цвет, толщину линии и тип. Для отображения сетки и легенды используются соответствующие команды."
      ],
      "metadata": {
        "id": "xxvjPYbGTSFf"
      }
    },
    {
      "cell_type": "markdown",
      "source": [
        "## Задача регрессии\n",
        "\n",
        "Задача регрессии заключается в построении некоторой функции $y\\left(x_{1},x_{2},...,x_{d}\\right)$, которая наилучшим образом описывает данные из некоторой обучающей выборки $U$, в которой каждому вектору значений независимых переменных (предикторов) $x$ ставится в соответствие зависимая переменная $y$. Эта функция ищется в некотором конкретном классе функций.\n",
        "\n",
        "### Понятие линейной регрессии\n",
        "\n",
        "Линейная регрессия (linear regression) — это метод восстановления зависимости одной (объясняемой, зависимой) переменной $y$ от другой или нескольких других переменных (факторов, независимых переменных) $\\mathbf{x}$ с линейной функцией зависимости от коэффициентов $\\mathbf{a}=\\left(a_{1},...,a_{m}\\right)^{T}$ вида: \n",
        "\n",
        "$y=f\\left(\\mathbf{x},\\mathbf{a}\\right)=\\sum_{k=1}^{m}a_{i}f_{i}\\left(\\mathbf{x}\\right),$\n",
        "\n",
        "где $\\mathbf{x}\\in\\mathbb{R}^{d}$, $\\mathbf{a}\\in\\mathbb{R}^{m}$, $f_{1}\\left(\\mathbf{x}\\right),...,f_{m}\\left(\\mathbf{x}\\right)$ – некоторые функции (базисные функции). \n",
        "\n",
        "Наиболее популярным вариантом линейной регрессии является предположение $f_{i}\\left(\\mathbf{x}\\right)\\equiv x_{i}$."
      ],
      "metadata": {
        "id": "2FWTQ7uOeVNS"
      }
    },
    {
      "cell_type": "code",
      "source": [
        "x = np.array([1., 2., 3., 4., 5.])\n",
        "y = np.array([1., 3., 2., 3., 5.])"
      ],
      "metadata": {
        "id": "ZGCeZCQyev5U"
      },
      "execution_count": null,
      "outputs": []
    },
    {
      "cell_type": "code",
      "source": [
        "plt.scatter(x, y)\n",
        "plt.axis([0, 6, 0, 6]);"
      ],
      "metadata": {
        "id": "PB4SM5yie75R"
      },
      "execution_count": null,
      "outputs": []
    },
    {
      "cell_type": "markdown",
      "source": [
        ""
      ],
      "metadata": {
        "id": "4HQdxa7oDFL5"
      }
    },
    {
      "cell_type": "markdown",
      "source": [
        "Для вычисления коэффициентов $a,\\,b$ парной линейной регрессии $y=a\\,x+b$ нужно вычислить математические ожидания и ковариацию переменных (признаков) $x$ и $y$, дисперсию переменной (признака) $x$:\n",
        "\n",
        "$$a=\\frac{\\sigma_{\\mathbf{XY}}}{\\sigma_{\\mathbf{X}}^{2}},\\,b=\\mu_{\\mathbf{Y}}-\\frac{\\sigma_{\\mathbf{XY}}}{\\sigma_{\\mathbf{X}}^{2}}\\,\\mu_{\\mathbf{X}},$$\n",
        "\n",
        "где\n",
        "\n",
        "$$\\mu_{\\mathbf{X}}=\\frac{1}{n}\\sum_{i=1}^{n}x_{i},\\,\\mu_{\\mathbf{Y}}=\\frac{1}{n}\\sum_{i=1}^{n}y_{i},$$\n",
        "$$\\sigma_{\\mathbf{XY}}=\\frac{1}{n}\\sum_{i=1}^{n}\\left(x_{i}-\\mu_{\\mathbf{X}}\\right)\\left(y_{i}-\\mu_{\\mathbf{Y}}\\right),$$\n",
        "$$\\sigma_{\\mathbf{X}}^{2}=\\frac{1}{n}\\sum_{i=1}^{n}\\left(x_{i}-\\mu_{\\mathbf{X}}\\right)^{2}.$$"
      ],
      "metadata": {
        "id": "l-JeEc2TfQms"
      }
    },
    {
      "cell_type": "markdown",
      "source": [
        "Вычислим математические ожидания переменных (признаков) $x$ и $y$:"
      ],
      "metadata": {
        "id": "BP0b2dvJDQgs"
      }
    },
    {
      "cell_type": "code",
      "source": [
        "x_mean = np.mean(x)\n",
        "y_mean = np.mean(y)"
      ],
      "metadata": {
        "id": "azhrOB_sfN6a"
      },
      "execution_count": null,
      "outputs": []
    },
    {
      "cell_type": "markdown",
      "source": [
        "и далее коэффициенты регрессии и смещения:"
      ],
      "metadata": {
        "id": "7DEh8GoZFHcF"
      }
    },
    {
      "cell_type": "code",
      "source": [
        "a = (x - x_mean).dot(y - y_mean) / (x - x_mean).dot(x - x_mean)\n",
        "b = y_mean - a * x_mean"
      ],
      "metadata": {
        "id": "0w_i4Qt7Ek2U"
      },
      "execution_count": null,
      "outputs": []
    },
    {
      "cell_type": "markdown",
      "source": [
        "Прогнозируемые значения зависимой переменной вычисляются при помощи полученных коэффициентов так:"
      ],
      "metadata": {
        "id": "kWKJlPIjFXzt"
      }
    },
    {
      "cell_type": "code",
      "source": [
        "y_hat = a * x + b\n",
        "y_hat"
      ],
      "metadata": {
        "id": "mgL4nKmCfxG3"
      },
      "execution_count": null,
      "outputs": []
    },
    {
      "cell_type": "markdown",
      "source": [
        "Построим на рисунке точки набора данных и линию регрессии:"
      ],
      "metadata": {
        "id": "MA30Be6uF7Vb"
      }
    },
    {
      "cell_type": "code",
      "source": [
        "plt.scatter(x, y)\n",
        "plt.plot(x, y_hat, color='r')\n",
        "plt.axis([0, 6, 0, 6]);"
      ],
      "metadata": {
        "id": "qRfXlPb3gOVC"
      },
      "execution_count": null,
      "outputs": []
    },
    {
      "cell_type": "markdown",
      "source": [
        "Построенная таким образом линейная функция позволяет прогнозировать значение $y$ по любому значению $x$:"
      ],
      "metadata": {
        "id": "uIqwdUJkgunC"
      }
    },
    {
      "cell_type": "code",
      "source": [
        "x_predict = 6\n",
        "y_predict = a * x_predict + b\n",
        "y_predict"
      ],
      "metadata": {
        "id": "TPG-mZNygg65"
      },
      "execution_count": null,
      "outputs": []
    },
    {
      "cell_type": "markdown",
      "source": [
        "Объединим программный код в следующий класс `SimpleLinearReg`:"
      ],
      "metadata": {
        "id": "33PNitOWGoL7"
      }
    },
    {
      "cell_type": "code",
      "source": [
        "class SimpleLinReg:\n",
        "\n",
        "    def __init__(self):\n",
        "        self.a_ = None\n",
        "        self.b_ = None\n",
        "\n",
        "    def fit(self, x_train, y_train):\n",
        "        assert x_train.ndim == 1, \\\n",
        "            \"В данных должен быть один признак\"\n",
        "        assert len(x_train) == len(y_train), \\\n",
        "            \"Данные должны иметь одинаковый размер\"\n",
        "\n",
        "        x_mean = np.mean(x_train)\n",
        "        y_mean = np.mean(y_train)\n",
        "\n",
        "        self.a_ = (x_train - x_mean).dot(y_train - y_mean) / \\\n",
        "                  (x_train - x_mean).dot(x_train - x_mean)\n",
        "        self.b_ = y_mean - self.a_ * x_mean\n",
        "\n",
        "        return self\n",
        "\n",
        "    def predict(self, x_predict):\n",
        "        assert x_predict.ndim == 1, \\\n",
        "            \"В данных должен быть один признак\"\n",
        "        assert self.a_ is not None and self.b_ is not None, \\\n",
        "            \"Модель вначале должна быть обучена\"\n",
        "\n",
        "        return np.array([self._predict(x) for x in x_predict])\n",
        "\n",
        "    def _predict(self, x_single):\n",
        "        return self.a_ * x_single + self.b_\n",
        "\n",
        "    def __repr__(self):\n",
        "        return \"SimpleLinearReg()\""
      ],
      "metadata": {
        "id": "N4oGXNtwg1Eu"
      },
      "execution_count": null,
      "outputs": []
    },
    {
      "cell_type": "markdown",
      "source": [
        "Теперь можно создавать объекты этого класса при помощи конструктора и применять к объектам методы класса:"
      ],
      "metadata": {
        "id": "JZ1xr1xuhy0_"
      }
    },
    {
      "cell_type": "code",
      "source": [
        "reg1 = SimpleLinReg()\n",
        "reg1"
      ],
      "metadata": {
        "id": "WEPcXamEh16M"
      },
      "execution_count": null,
      "outputs": []
    },
    {
      "cell_type": "code",
      "source": [
        "reg1.fit(x, y)\n",
        "reg1.predict(np.array([x_predict]))"
      ],
      "metadata": {
        "id": "EDk5UmzBiMRC"
      },
      "execution_count": null,
      "outputs": []
    },
    {
      "cell_type": "code",
      "source": [
        "reg1.a_, reg1.b_"
      ],
      "metadata": {
        "id": "djGB05lGioi3"
      },
      "execution_count": null,
      "outputs": []
    },
    {
      "cell_type": "code",
      "source": [
        "y_hat1 = reg1.predict(x)\n",
        "\n",
        "plt.scatter(x, y)\n",
        "plt.plot(x, y_hat1, color='r')\n",
        "plt.axis([0, 6, 0, 6]);"
      ],
      "metadata": {
        "id": "IJlmupVMi0gE"
      },
      "execution_count": null,
      "outputs": []
    },
    {
      "cell_type": "markdown",
      "source": [
        "### Загрузка набора данных __boston_housing__\n",
        "\n",
        "Набор данных содержит 13 атрибутов домов в разных местах в окрестности города Бостон в конце 1970-х годов. Целевые значения представляют собой медианные значения стоимости домов в определенном месте (в тыс. долл. США)."
      ],
      "metadata": {
        "id": "t11K2j30XJ90"
      }
    },
    {
      "cell_type": "code",
      "source": [
        "import tensorflow as tf\n",
        "\n",
        "(x_train, y_train), (x_test, y_test) = \\\n",
        "    tf.keras.datasets.boston_housing.load_data(test_split=0.2)\n",
        "x_train.shape, y_train.shape, x_test.shape, y_test.shape"
      ],
      "metadata": {
        "id": "HXXvLrcblTmb"
      },
      "execution_count": null,
      "outputs": []
    },
    {
      "cell_type": "markdown",
      "source": [
        "Данные из набора загружены в четыре массива:\n",
        "\n",
        "* `x_train` – массив значений признаков (предикторов) для обучения\n",
        "* `y_train` - массив значений отклика для `x_train`\n",
        "* `x_test` – массив значений признаков (предикторов) для тестирования\n",
        "* `y_test` - массив значений отклика для `x_test`\n",
        "\n",
        "Преобразуем массив `x_train` в датафрейм:\n"
      ],
      "metadata": {
        "id": "7cjcVLe7IJCG"
      }
    },
    {
      "cell_type": "code",
      "source": [
        "import pandas as pd\n",
        "\n",
        "df_train = pd.DataFrame(x_train)\n",
        "df_train"
      ],
      "metadata": {
        "id": "Z9UINVh_X0gX"
      },
      "execution_count": null,
      "outputs": []
    },
    {
      "cell_type": "markdown",
      "source": [
        "Рассмотрим задачу парной регрессии с признаком с индексом 5 (признак `rm` – среднее количество комнат в жилом доме) в качестве независимой переменной:"
      ],
      "metadata": {
        "id": "IaUyRTRUJ2Ox"
      }
    },
    {
      "cell_type": "code",
      "source": [
        "x = x_train[:,5]  # можно 12\n",
        "y = y_train\n",
        "x.shape, y.shape"
      ],
      "metadata": {
        "id": "Pn7TdPj8Znqs"
      },
      "execution_count": null,
      "outputs": []
    },
    {
      "cell_type": "markdown",
      "source": [
        "Набор переменных для парной регрессии имеет следующий вид:"
      ],
      "metadata": {
        "id": "wjG31y-nKNq0"
      }
    },
    {
      "cell_type": "code",
      "source": [
        "plt.scatter(x, y);"
      ],
      "metadata": {
        "id": "3CrHAJLRagB-"
      },
      "execution_count": null,
      "outputs": []
    },
    {
      "cell_type": "markdown",
      "source": [
        "Очистим набор от точек, расположенных вдоль верхней границы графика."
      ],
      "metadata": {
        "id": "JDWAhMtTa8uQ"
      }
    },
    {
      "cell_type": "code",
      "source": [
        "np.max(y)"
      ],
      "metadata": {
        "id": "VXMf1wj0a96U"
      },
      "execution_count": null,
      "outputs": []
    },
    {
      "cell_type": "code",
      "source": [
        "x = x[y < 50.0]\n",
        "y = y[y < 50.0]\n",
        "x.shape, y.shape"
      ],
      "metadata": {
        "id": "f-gVQf6GbCpP"
      },
      "execution_count": null,
      "outputs": []
    },
    {
      "cell_type": "code",
      "source": [
        "plt.scatter(x, y);"
      ],
      "metadata": {
        "id": "1uAz_3embjzA"
      },
      "execution_count": null,
      "outputs": []
    },
    {
      "cell_type": "markdown",
      "source": [
        "Построим функцию парной регрессии для очищенного набора данных:"
      ],
      "metadata": {
        "id": "ociPbJ5TQyS7"
      }
    },
    {
      "cell_type": "code",
      "source": [
        "reg = SimpleLinReg()\n",
        "reg.fit(x, y)"
      ],
      "metadata": {
        "id": "vqr5MxRlCpw2"
      },
      "execution_count": null,
      "outputs": []
    },
    {
      "cell_type": "code",
      "source": [
        "reg.a_, reg.b_"
      ],
      "metadata": {
        "id": "su_HoO35C6EQ"
      },
      "execution_count": null,
      "outputs": []
    },
    {
      "cell_type": "markdown",
      "source": [
        "Изобразим на графике точки обучающего набора и линию регрессии:"
      ],
      "metadata": {
        "id": "tzXlKRkTDJUg"
      }
    },
    {
      "cell_type": "code",
      "source": [
        "plt.scatter(x, y)\n",
        "plt.plot(x, reg.predict(x), color='r');"
      ],
      "metadata": {
        "id": "o7f7J-8dDAdW"
      },
      "execution_count": null,
      "outputs": []
    },
    {
      "cell_type": "markdown",
      "source": [
        "А теперь добавим также точки тестового набора другим цветом:"
      ],
      "metadata": {
        "id": "-ym3SBSuDkpA"
      }
    },
    {
      "cell_type": "code",
      "source": [
        "plt.scatter(x, y)\n",
        "plt.scatter(x_test[:,5], y_test, color=\"c\")\n",
        "plt.plot(x, reg.predict(x), color='r');"
      ],
      "metadata": {
        "id": "qZ2IijUKDlWF"
      },
      "execution_count": null,
      "outputs": []
    },
    {
      "cell_type": "markdown",
      "source": [
        "Построим прогнозные значения для точек тестового набора, чтобы оценить качество модели регрессии:"
      ],
      "metadata": {
        "id": "JyIOokMbEK4v"
      }
    },
    {
      "cell_type": "code",
      "source": [
        "y_predict = reg.predict(x_test[:,5])\n",
        "y_predict"
      ],
      "metadata": {
        "id": "JNipk_FYEQ8z"
      },
      "execution_count": null,
      "outputs": []
    },
    {
      "cell_type": "markdown",
      "source": [
        "## Метрики регрессии\n",
        "\n",
        "__Средняя квадратичная ошибка__ (Mean Squared Error, MSE)\n",
        "применяется в ситуациях, когда нам надо подчеркнуть большие ошибки и выбрать модель, которая дает меньше больших ошибок прогноза. \n",
        "\n",
        "$MSE=\\frac{1}{n}\\sum_{i=1}^{n}\\left(y_{i}-\\hat{y}_{i}\\right)^{2}$\n",
        "\n",
        "Грубые ошибки становятся заметнее за счет того, что ошибку прогноза мы возводим в квадрат. И про модель, которая дает нам меньшее значение среднеквадратической ошибки, можно сказать, что что у этой модели меньше грубых ошибок."
      ],
      "metadata": {
        "id": "BkBtxcYNFgY_"
      }
    },
    {
      "cell_type": "code",
      "source": [
        "mse_test = np.sum((y_predict - y_test)**2) / len(y_test)\n",
        "mse_test"
      ],
      "metadata": {
        "id": "y24HM_16Ft09"
      },
      "execution_count": null,
      "outputs": []
    },
    {
      "cell_type": "markdown",
      "source": [
        "__Корень из средней квадратичной ошибки__ (Root Mean Squared Error, RMSE)\n",
        "получается из MSE путем извлечения корня.\n",
        "\n",
        "$RMSE=\\sqrt{\\frac{1}{n}\\sum_{i=1}^{n}\\left(y_{i}-\\hat{y}_{i}\\right)^{2}}$\n",
        "\n",
        "Каждое отклонение возводится в квадрат, любое небольшое отклонение может значительно повлиять на показатель ошибки. "
      ],
      "metadata": {
        "id": "Xv4eeXDZF6f4"
      }
    },
    {
      "cell_type": "code",
      "source": [
        "rmse_test = np.sqrt(mse_test)\n",
        "rmse_test"
      ],
      "metadata": {
        "id": "Jw6rmYyvF2qs"
      },
      "execution_count": null,
      "outputs": []
    },
    {
      "cell_type": "markdown",
      "source": [
        "__Cредняя абсолютная ошибка__ (Mean Absolute Error, MAE) не так сильно штрафует за большие отклонения по сравнению со среднеквадратичным, и поэтому менее чувствительна к выбросам.\n",
        "\n",
        "$MAE=\\frac{1}{n}\\sum_{i=1}^{n}\\left|y_{i}-\\hat{y}_{i}\\right|$"
      ],
      "metadata": {
        "id": "MQ7pQ6x2GT-m"
      }
    },
    {
      "cell_type": "code",
      "source": [
        "mae_test = np.sum(np.absolute(y_predict - y_test))/len(y_test)\n",
        "mae_test"
      ],
      "metadata": {
        "id": "X0p2OwaaGhyq"
      },
      "execution_count": null,
      "outputs": []
    },
    {
      "cell_type": "markdown",
      "source": [
        "__Коэффициент детерминации__ $R^2$ измеряет долю дисперсии, объясненную моделью, в общей дисперсии целевой переменной. \n",
        "\n",
        "$R^{2}=1-\\frac{Q}{S_{0}}, Q=\\sum_{i=1}^{n}\\left(y_{i}-\\hat{y}_{i}\\right)^{2}, S_{0}=\\sum_{i=1}^{n}\\left(y-\\bar{y}\\right)^{2}$,\n",
        "\n",
        "где $\\bar{y}$ – это выборочное среднее зависимой переменной $y$. Фактически, данная мера качества — это нормированная среднеквадратичная ошибка. Если она близка к единице, то модель хорошо объясняет данные, если же она близка к нулю, то прогнозы сопоставимы по качеству с константным предсказанием."
      ],
      "metadata": {
        "id": "u3KMsEt0G1IY"
      }
    },
    {
      "cell_type": "code",
      "source": [
        "1 - mse_test/np.var(y_test)"
      ],
      "metadata": {
        "id": "LYJy8reeGpJ8"
      },
      "execution_count": null,
      "outputs": []
    },
    {
      "cell_type": "markdown",
      "source": [
        "## Библиотека Tensorflow\n",
        "\n",
        "__TensorFlow__ - это комплексная платформа с открытым исходным кодом для машинного обучения с акцентом на обучение искусственных нейронных сетей. "
      ],
      "metadata": {
        "id": "KSGoo8NRPym1"
      }
    },
    {
      "cell_type": "code",
      "source": [
        "import tensorflow as tf\n",
        "print(tf.__version__)"
      ],
      "metadata": {
        "id": "1L1uvn9AOCI4"
      },
      "execution_count": null,
      "outputs": []
    },
    {
      "cell_type": "markdown",
      "source": [
        "Рассмотрим задачу регрессии для набора boston_housing с использованием средств __Tensorflow__.\n",
        "\n",
        "Для этого создадим с использованием средств модуля __Keras__ модель простейшей нейронной сети из одного слоя с одним нейроном:"
      ],
      "metadata": {
        "id": "EsAs7ysUkP15"
      }
    },
    {
      "cell_type": "code",
      "source": [
        "model = tf.keras.Sequential( [ tf.keras.layers.Dense(1, input_shape=(1,)) ] )"
      ],
      "metadata": {
        "id": "CajZsv0LilnA"
      },
      "execution_count": null,
      "outputs": []
    },
    {
      "cell_type": "code",
      "source": [
        "model.summary()"
      ],
      "metadata": {
        "id": "fVw_4xKUU3lg"
      },
      "execution_count": null,
      "outputs": []
    },
    {
      "cell_type": "markdown",
      "source": [
        "После того, как модель построена, настроим процесс ее обучения вызовом метода `compile()`:\n"
      ],
      "metadata": {
        "id": "mjMuncrIlsek"
      }
    },
    {
      "cell_type": "code",
      "source": [
        "model.compile(\n",
        "    loss=tf.keras.losses.mean_absolute_error,\n",
        "    optimizer=tf.keras.optimizers.Adam(learning_rate=0.25),\n",
        "    metrics=['mean_absolute_error']\n",
        ")"
      ],
      "metadata": {
        "id": "aN8AdWoMl6sd"
      },
      "execution_count": null,
      "outputs": []
    },
    {
      "cell_type": "markdown",
      "source": [
        "Здесь в качестве функции потерь (ошибки) и для оценки качества модели используется средняя абсолютная ошибка MAE.  \n",
        "\n",
        "Модель может быть обучена на тренировочных данных, используя метод `fit()`:"
      ],
      "metadata": {
        "id": "N6-B4elepBNK"
      }
    },
    {
      "cell_type": "code",
      "source": [
        "model.fit(x, y, epochs=100) # verbose=0"
      ],
      "metadata": {
        "id": "b0YPx7rhj7dh"
      },
      "execution_count": null,
      "outputs": []
    },
    {
      "cell_type": "markdown",
      "source": [
        "Выполним прогнозирование значений зависимой переменной (отклика):"
      ],
      "metadata": {
        "id": "0bWFMHNlSW7o"
      }
    },
    {
      "cell_type": "code",
      "source": [
        "y_predict2 = model.predict(x_test[:,5])\n",
        "y_predict2[:5]"
      ],
      "metadata": {
        "id": "xac_QAeyif97"
      },
      "execution_count": null,
      "outputs": []
    },
    {
      "cell_type": "markdown",
      "source": [
        "и визуализируем их на рисунке:"
      ],
      "metadata": {
        "id": "b7z2DBRsSjQb"
      }
    },
    {
      "cell_type": "code",
      "source": [
        "plt.figure(figsize=(12,8))\n",
        "plt.scatter(x, y)\n",
        "plt.scatter(x_test[:,5], y_test, c='c')\n",
        "plt.plot(x_test[:,5], y_predict, c='m', label='точная линия регрессии')\n",
        "plt.plot(x_test[:,5], y_predict2, c='r', label='линия регрессии (ANN)')\n",
        "plt.legend();"
      ],
      "metadata": {
        "id": "e19BGeTAXeCs"
      },
      "execution_count": null,
      "outputs": []
    },
    {
      "cell_type": "markdown",
      "source": [
        "### Нормализация\n",
        "\n",
        "Входные данные могут содержать значения, отличающиеся друг от друга на несколько порядков, например, возраст и доход клиента. Такая ситуация может вызвать неустойчивость работы модели машинного обучения, ухудшить результаты обучения и/или замедлить его процесс. \n",
        "\n",
        "__Нормализация__ — это процедура предварительной обработки входных данных, при которой значения признаков, образующих входной вектор, приводятся к некоторому заданному диапазону или распределению с  заданными параметрами (математическим ожиданием и дисперсией).\n",
        "\n",
        "В Tensorflow для встраивания нормализации в нейронную сеть создают специальный слой нормализации.\n",
        "\n",
        "Первым шагом является создание слоя:"
      ],
      "metadata": {
        "id": "Q5Phno9N-c8z"
      }
    },
    {
      "cell_type": "code",
      "source": [
        "normalizer = tf.keras.layers.Normalization()"
      ],
      "metadata": {
        "id": "w9F6eLBA-O1f"
      },
      "execution_count": null,
      "outputs": []
    },
    {
      "cell_type": "markdown",
      "source": [
        "Теперь адаптируем слой к данным (например, признакам с индексами 4,5,7,12):"
      ],
      "metadata": {
        "id": "bmgFnTPh_QQH"
      }
    },
    {
      "cell_type": "code",
      "source": [
        "normalizer.adapt(df_train[[4,5,7,12]])"
      ],
      "metadata": {
        "id": "qrl7d3p4_O2A"
      },
      "execution_count": null,
      "outputs": []
    },
    {
      "cell_type": "markdown",
      "source": [
        "При этом вычисляются средние значения и дисперсии и сохраняются в слое:"
      ],
      "metadata": {
        "id": "BDT-8-5yALS2"
      }
    },
    {
      "cell_type": "code",
      "source": [
        "print(normalizer.mean.numpy())\n",
        "print(normalizer.variance.numpy())"
      ],
      "metadata": {
        "id": "uThnhI9cAMYd"
      },
      "execution_count": null,
      "outputs": []
    },
    {
      "cell_type": "markdown",
      "source": [
        "Оценим эффект нормализации:"
      ],
      "metadata": {
        "id": "uumrniExWkUC"
      }
    },
    {
      "cell_type": "code",
      "source": [
        "df_train[[4,5,7,12]][0:5]"
      ],
      "metadata": {
        "id": "PBIBOwxt6ydj"
      },
      "execution_count": null,
      "outputs": []
    },
    {
      "cell_type": "code",
      "source": [
        "normalizer(df_train[[4,5,7,12]][0:5]).numpy()"
      ],
      "metadata": {
        "id": "LJEg36RlPPUP"
      },
      "execution_count": null,
      "outputs": []
    },
    {
      "cell_type": "markdown",
      "source": [
        "## Линейная регрессия с нормализацией и визуализацией обучения\n",
        "\n",
        "### Парная регрессия\n",
        "\n",
        "Начнем с парной регрессии, чтобы предсказать стоимость дома по признаку `rm` с индексом 5 (среднее количество комнат в жилом доме.).\n"
      ],
      "metadata": {
        "id": "9vshF6Q3Cq5t"
      }
    },
    {
      "cell_type": "code",
      "source": [
        "feature = np.array(df_train[5])\n",
        "\n",
        "feature_normalizer = tf.keras.layers.Normalization(axis=None,input_shape=(1,)) \n",
        "feature_normalizer.adapt(feature)"
      ],
      "metadata": {
        "id": "jLXYzdTQAS8N"
      },
      "execution_count": null,
      "outputs": []
    },
    {
      "cell_type": "markdown",
      "source": [
        "Построим последовательную модель с двумя слоями:"
      ],
      "metadata": {
        "id": "GvjQAr0VDx7P"
      }
    },
    {
      "cell_type": "code",
      "source": [
        "feature_model = tf.keras.Sequential([\n",
        "    feature_normalizer,\n",
        "    tf.keras.layers.Dense(units=1)\n",
        "])\n",
        "\n",
        "feature_model.summary()"
      ],
      "metadata": {
        "id": "13Pv8DzfAVzS"
      },
      "execution_count": null,
      "outputs": []
    },
    {
      "cell_type": "markdown",
      "source": [
        "Эта модель будет предсказывать стоимость дома в зависимости от признака `rm`. \n",
        "\n",
        "Для тестирования можно запустить необученную модель на нескольких первых значениях, чтобы проверить результат:"
      ],
      "metadata": {
        "id": "VdGgbAKvEV-4"
      }
    },
    {
      "cell_type": "code",
      "source": [
        "print(feature[:10])\n",
        "feature_model.predict(feature[:10])"
      ],
      "metadata": {
        "id": "R0hEh8lFEdYW"
      },
      "execution_count": null,
      "outputs": []
    },
    {
      "cell_type": "markdown",
      "source": [
        "После построения модели настроим процедуру обучения с помощью метода `compile()`. Наиболее важными аргументами для компиляции являются функция потерь и оптимизатор, поскольку они определяют, что будет оптимизировано (`mean_absolute_error`) и как (оптимизатор `Adam`)."
      ],
      "metadata": {
        "id": "buo8KhxRE_gM"
      }
    },
    {
      "cell_type": "code",
      "source": [
        "feature_model.compile(\n",
        "    optimizer=tf.optimizers.Adam(learning_rate=0.25),\n",
        "    loss='mean_absolute_error')"
      ],
      "metadata": {
        "id": "l1_HyGNkFSM_"
      },
      "execution_count": null,
      "outputs": []
    },
    {
      "cell_type": "markdown",
      "source": [
        "После настройки обучения используем метод `fit()` для выполнения обучения:"
      ],
      "metadata": {
        "id": "d-h5HshuFeFd"
      }
    },
    {
      "cell_type": "code",
      "source": [
        "%%time\n",
        "history = feature_model.fit(\n",
        "    df_train[5], y_train,\n",
        "    epochs=100,\n",
        "    # подавляем вывод\n",
        "    verbose=0,\n",
        "    # проверка (валидация) на 20% обучающих данных\n",
        "    validation_split = 0.2)"
      ],
      "metadata": {
        "id": "9VBgltEoFs70"
      },
      "execution_count": null,
      "outputs": []
    },
    {
      "cell_type": "markdown",
      "source": [
        "Визуализируем ход обучения модели, используя статистику, хранящуюся в объекте `history`."
      ],
      "metadata": {
        "id": "oUX2nF-PGe9n"
      }
    },
    {
      "cell_type": "code",
      "source": [
        "hist = pd.DataFrame(history.history)\n",
        "hist['epoch'] = history.epoch\n",
        "hist.tail()"
      ],
      "metadata": {
        "id": "UhqA_Z6cGmjM"
      },
      "execution_count": null,
      "outputs": []
    },
    {
      "cell_type": "code",
      "source": [
        "def plot_loss(history):\n",
        "  plt.plot(history.history['loss'], label='loss')\n",
        "  plt.plot(history.history['val_loss'], label='val_loss')\n",
        "  plt.ylim([0, max(history.history['loss'])*0.5])\n",
        "  plt.xlabel('Эпохи обучения')\n",
        "  plt.ylabel('Ошибка')\n",
        "  plt.legend()\n",
        "  plt.grid(True)"
      ],
      "metadata": {
        "id": "yBrYH0bFHNzV"
      },
      "execution_count": null,
      "outputs": []
    },
    {
      "cell_type": "code",
      "source": [
        "plot_loss(history)"
      ],
      "metadata": {
        "id": "E_NXyUc5HVTc"
      },
      "execution_count": null,
      "outputs": []
    },
    {
      "cell_type": "markdown",
      "source": [
        "Запоним результаты на тестовом наборе для дальнейшего использования:"
      ],
      "metadata": {
        "id": "IjW8AuMTHsvz"
      }
    },
    {
      "cell_type": "code",
      "source": [
        "test_results = {} # пустой словарь\n",
        "\n",
        "test_results['feature_model'] = feature_model.evaluate(\n",
        "    df_train[5],\n",
        "    y_train, verbose=0)"
      ],
      "metadata": {
        "id": "s0uBQe5-Hwor"
      },
      "execution_count": null,
      "outputs": []
    },
    {
      "cell_type": "markdown",
      "source": [
        "Поскольку использовалась парная регрессия, прогнозы модели легко рассматривать как функцию входных данных:"
      ],
      "metadata": {
        "id": "3qUcW6twIay3"
      }
    },
    {
      "cell_type": "code",
      "source": [
        "x = tf.linspace(4., 9., 51)\n",
        "y = feature_model.predict(x)"
      ],
      "metadata": {
        "id": "sN31PkJYIbwY"
      },
      "execution_count": null,
      "outputs": []
    },
    {
      "cell_type": "code",
      "source": [
        "def plot_rm(x, y):\n",
        "  plt.scatter(df_train[5], y_train, label='Data')\n",
        "  plt.plot(x, y, color='k', label='Прогноз')\n",
        "  plt.xlabel('Кол-во комнат')\n",
        "  plt.ylabel('Стоимость')\n",
        "  plt.legend()"
      ],
      "metadata": {
        "id": "5izifop6Ixp2"
      },
      "execution_count": null,
      "outputs": []
    },
    {
      "cell_type": "code",
      "source": [
        "plot_rm(x,y)"
      ],
      "metadata": {
        "id": "hWVHNX4GJAGr"
      },
      "execution_count": null,
      "outputs": []
    },
    {
      "cell_type": "markdown",
      "source": [
        "### Множественная регрессия\n",
        "\n",
        "Можно использовать почти идентичный подход, чтобы делать прогнозы на основе нескольких признаков. \n",
        "\n",
        "В многомерном случае используется слой нормализации, адаптированный ко всему набору данных."
      ],
      "metadata": {
        "id": "2OBDs735LU8y"
      }
    },
    {
      "cell_type": "code",
      "source": [
        "linear_model = tf.keras.Sequential([\n",
        "    normalizer,\n",
        "    tf.keras.layers.Dense(units=1)\n",
        "])"
      ],
      "metadata": {
        "id": "cW7lnQavL7Wm"
      },
      "execution_count": null,
      "outputs": []
    },
    {
      "cell_type": "markdown",
      "source": [
        "При вызове модели для набора входных данных, модель вычисляяет по одному значению для каждого элемента входных данных:"
      ],
      "metadata": {
        "id": "hHoLGMN1Mjp6"
      }
    },
    {
      "cell_type": "code",
      "source": [
        "linear_model.predict(df_train[[4,5,7,12]][:10])"
      ],
      "metadata": {
        "id": "TSNBgC5HMsfd"
      },
      "execution_count": null,
      "outputs": []
    },
    {
      "cell_type": "markdown",
      "source": [
        "При вызове модели будут построены ее весовые матрицы и смещения:"
      ],
      "metadata": {
        "id": "c17My1MTNuYD"
      }
    },
    {
      "cell_type": "code",
      "source": [
        "linear_model.layers[1].kernel"
      ],
      "metadata": {
        "id": "R3-R66iCN266"
      },
      "execution_count": null,
      "outputs": []
    },
    {
      "cell_type": "code",
      "source": [
        "linear_model.layers[1].bias"
      ],
      "metadata": {
        "id": "ISGNihctcRuh"
      },
      "execution_count": null,
      "outputs": []
    },
    {
      "cell_type": "markdown",
      "source": [
        "Используем те же вызовы `compile()` и `fit()`, что и для модели парной регрессии:"
      ],
      "metadata": {
        "id": "KQrrxviqONQf"
      }
    },
    {
      "cell_type": "code",
      "source": [
        "linear_model.compile(\n",
        "    optimizer=tf.optimizers.Adam(learning_rate=0.25),\n",
        "    loss='mean_absolute_error')"
      ],
      "metadata": {
        "id": "vOcPDY-ON6w0"
      },
      "execution_count": null,
      "outputs": []
    },
    {
      "cell_type": "code",
      "source": [
        "%%time\n",
        "history = linear_model.fit(\n",
        "    df_train[[4,5,7,12]], y_train, \n",
        "    epochs=100,\n",
        "    # подавляем вывод\n",
        "    verbose=0,\n",
        "    # проверка (валидация) на 20% обучающих данных\n",
        "    validation_split = 0.2)"
      ],
      "metadata": {
        "id": "lfvl4AKzOkY2"
      },
      "execution_count": null,
      "outputs": []
    },
    {
      "cell_type": "markdown",
      "source": [
        "Использование большего числа признаков обеспечивает меньшую ошибку обучения и валидации, чем модель парной регрессии:"
      ],
      "metadata": {
        "id": "xVQmjDdoO6mO"
      }
    },
    {
      "cell_type": "code",
      "source": [
        "plot_loss(history)"
      ],
      "metadata": {
        "id": "xHIhYlPpO7Un"
      },
      "execution_count": null,
      "outputs": []
    },
    {
      "cell_type": "markdown",
      "source": [
        "### Регуляризация нейронной сети\n",
        "\n",
        "Регуляризаторы позволяют применять штрафы к параметрам слоя или активности слоя во время оптимизации. Эти штрафы добавляются к функции потерь, которую оптимизирует нейронная сеть.\n",
        "\n",
        "Штрафы за регуляризацию применяются для каждого слоя отдельно.\n",
        "\n",
        "Возможны следующие виды регуляризаторов:\n",
        "\n",
        "   - `tf.keras.regularizers.L1(l1=0.01)`\n",
        "   - `tf.keras.regularizers.L2(l2=0.01)`\n",
        "   - `tf.keras.regularizers.L1L2(l1=0.0, l2=0.0)`\n",
        "\n",
        "Для регуляризации слоя нейронной сети при его создании должен быть указан параметр `kernel_regularizer`, например:\n",
        "\n",
        "`layer = tf.keras.layers.Dense(3, kernel_regularizer=tf.keras.regularizers.L2(l2=0.01))`"
      ],
      "metadata": {
        "id": "AMiB8wridVA-"
      }
    },
    {
      "cell_type": "code",
      "source": [
        "df_normalizer = tf.keras.layers.Normalization()\n",
        "df_normalizer.adapt(df_train)\n",
        "print(df_normalizer.mean.numpy())\n",
        "print(df_normalizer.variance.numpy())"
      ],
      "metadata": {
        "id": "952AS_hHiDtG"
      },
      "execution_count": null,
      "outputs": []
    },
    {
      "cell_type": "markdown",
      "source": [
        "Создаем модель с нормализацией всех признаков и регуляризацией `L1`:"
      ],
      "metadata": {
        "id": "tSRlCu92aRvo"
      }
    },
    {
      "cell_type": "code",
      "source": [
        "l1_model = tf.keras.Sequential([\n",
        "    df_normalizer,\n",
        "    tf.keras.layers.Dense(units=1, \n",
        "                          kernel_regularizer=tf.keras.regularizers.L1(l1=0.01))\n",
        "])"
      ],
      "metadata": {
        "id": "UdrB2cYOO--I"
      },
      "execution_count": null,
      "outputs": []
    },
    {
      "cell_type": "markdown",
      "source": [
        "Компилируем"
      ],
      "metadata": {
        "id": "30PmHGhuafYR"
      }
    },
    {
      "cell_type": "code",
      "source": [
        "l1_model.compile(\n",
        "    optimizer=tf.optimizers.Adam(learning_rate=0.25),\n",
        "    loss='mean_absolute_error')"
      ],
      "metadata": {
        "id": "aoh2e9uSJKpH"
      },
      "execution_count": null,
      "outputs": []
    },
    {
      "cell_type": "markdown",
      "source": [
        "и обучаем модель:"
      ],
      "metadata": {
        "id": "7qDLNPR6ajnI"
      }
    },
    {
      "cell_type": "code",
      "source": [
        "%%time\n",
        "history = l1_model.fit(\n",
        "    df_train, y_train, \n",
        "    epochs=100,\n",
        "    # подавляем вывод\n",
        "    verbose=0,\n",
        "    # проверка (валидация) на 20% обучающих данных\n",
        "    validation_split = 0.2)"
      ],
      "metadata": {
        "id": "Rn_0lVSXhQBO"
      },
      "execution_count": null,
      "outputs": []
    },
    {
      "cell_type": "markdown",
      "source": [
        "Веса в слое выглядят так:"
      ],
      "metadata": {
        "id": "4wtbhwYka1Ma"
      }
    },
    {
      "cell_type": "code",
      "source": [
        "l1_model.layers[1].kernel"
      ],
      "metadata": {
        "id": "hZOHrGkOhdmg"
      },
      "execution_count": null,
      "outputs": []
    },
    {
      "cell_type": "markdown",
      "source": [
        "Кривые обучения получаются такими:"
      ],
      "metadata": {
        "id": "reZHfji2bB0N"
      }
    },
    {
      "cell_type": "code",
      "source": [
        "plot_loss(history)"
      ],
      "metadata": {
        "id": "Hl4vMW98jPH-"
      },
      "execution_count": null,
      "outputs": []
    },
    {
      "cell_type": "code",
      "source": [
        "hist = pd.DataFrame(history.history)\n",
        "hist"
      ],
      "metadata": {
        "id": "3oCvtN7cjXcz"
      },
      "execution_count": null,
      "outputs": []
    },
    {
      "cell_type": "markdown",
      "source": [
        "#### Задание (10 баллов)\n",
        "\n",
        "Для закрепленного за Вами варианта лабораторной работы:\n",
        "\n",
        "1.\tЗагрузите заданный в индивидуальном задании набор данных из Tensorflow Datasets.  \n",
        "\n",
        "2.\tВыполните визуализацию независимой и зависимой переменных в соответствии с индивидуальным заданием, подписывая оси и рисунок.  \n",
        "\n",
        "3.  Постройте парную линейную регрессию при помощи точного подхода и при помощи нейронной сети с одним нейроном. Вычислите и сравните значения показателей качества R^2 двух подходов.\n",
        "\n",
        "4. Постройте диаграмму рассеяния для независимого и зависимого признаков и изобразите линии двух построенных парных регрессий, подписывая оси и рисунок и создавая легенду. \n",
        "\n",
        "5.\tСоздайте и адаптируйте нормализующий слой Tensorflow для всех признаков набора данных (за исключением зависимого признака) и постройте диаграмму рассеяния для нормализованного независимого признака и зависимого признака, , подписывая оси и рисунок. \n",
        "\n",
        "5.\tИспользуя созданный нормализующий слой, постройте регресоры на базе следующих моделей множественной регрессии:\n",
        "  * линейной регрессии\n",
        "  * гребневой регрессии (L2)\n",
        "  * лассо регрессии (L1)\n",
        "\n",
        "6. Определите среди построенных моделей модель множественной регрессии с наиболее высоким качеством по показателю, указанному в индивидуальном задании.\n",
        "\n",
        "7.  Для лучшего регрессора визуализируйте кривые обучения (в зависимости от эпохи обучения).\n",
        "\n",
        "8. Определите медианные значения признаков (кроме независимого и зависимого признаков) и для построенных медианных значений визуализируйте на плоскости с независимым признаком в качестве оси абсцисс и зависимым признаком в качестве оси ординат точки тестовой выборки и линии (графики) различных моделей множественной регрессии разными цветами. Подпишите оси и создайте легенду и заголовок для рисунка.\n",
        "\n"
      ],
      "metadata": {
        "id": "NvrOTmXEBUVS"
      }
    }
  ]
}